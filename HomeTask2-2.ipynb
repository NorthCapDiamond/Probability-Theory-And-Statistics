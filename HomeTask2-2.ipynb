{
  "nbformat": 4,
  "nbformat_minor": 0,
  "metadata": {
    "colab": {
      "provenance": []
    },
    "kernelspec": {
      "name": "python3",
      "display_name": "Python 3"
    },
    "language_info": {
      "name": "python"
    }
  },
  "cells": [
    {
      "cell_type": "markdown",
      "source": [
        "###***HT2***"
      ],
      "metadata": {
        "id": "ahNDetzJAa9P"
      }
    },
    {
      "cell_type": "markdown",
      "source": [
        "####*Task1*"
      ],
      "metadata": {
        "id": "3dfCSlDYQbQi"
      }
    },
    {
      "cell_type": "code",
      "execution_count": null,
      "metadata": {
        "id": "yHGgEQdTGCBs"
      },
      "outputs": [],
      "source": [
        "import pandas as pd\n",
        "import numpy as np"
      ]
    },
    {
      "cell_type": "code",
      "source": [
        "df = pd.read_csv(\"/content/Untitled spreadsheet - Sheet1.csv\")\n",
        "df"
      ],
      "metadata": {
        "colab": {
          "base_uri": "https://localhost:8080/",
          "height": 419
        },
        "id": "4JijbgjFGLDq",
        "outputId": "0c8b2012-d632-41c2-9125-980285601fa2"
      },
      "execution_count": null,
      "outputs": [
        {
          "output_type": "execute_result",
          "data": {
            "text/plain": [
              "       X\n",
              "0    9.4\n",
              "1    8.7\n",
              "2    1.1\n",
              "3   10.0\n",
              "4    8.3\n",
              "..   ...\n",
              "95   4.6\n",
              "96   2.4\n",
              "97   6.1\n",
              "98   9.2\n",
              "99  10.3\n",
              "\n",
              "[100 rows x 1 columns]"
            ],
            "text/html": [
              "\n",
              "  <div id=\"df-5eab4361-b36c-4464-8437-c539ba5b969b\">\n",
              "    <div class=\"colab-df-container\">\n",
              "      <div>\n",
              "<style scoped>\n",
              "    .dataframe tbody tr th:only-of-type {\n",
              "        vertical-align: middle;\n",
              "    }\n",
              "\n",
              "    .dataframe tbody tr th {\n",
              "        vertical-align: top;\n",
              "    }\n",
              "\n",
              "    .dataframe thead th {\n",
              "        text-align: right;\n",
              "    }\n",
              "</style>\n",
              "<table border=\"1\" class=\"dataframe\">\n",
              "  <thead>\n",
              "    <tr style=\"text-align: right;\">\n",
              "      <th></th>\n",
              "      <th>X</th>\n",
              "    </tr>\n",
              "  </thead>\n",
              "  <tbody>\n",
              "    <tr>\n",
              "      <th>0</th>\n",
              "      <td>9.4</td>\n",
              "    </tr>\n",
              "    <tr>\n",
              "      <th>1</th>\n",
              "      <td>8.7</td>\n",
              "    </tr>\n",
              "    <tr>\n",
              "      <th>2</th>\n",
              "      <td>1.1</td>\n",
              "    </tr>\n",
              "    <tr>\n",
              "      <th>3</th>\n",
              "      <td>10.0</td>\n",
              "    </tr>\n",
              "    <tr>\n",
              "      <th>4</th>\n",
              "      <td>8.3</td>\n",
              "    </tr>\n",
              "    <tr>\n",
              "      <th>...</th>\n",
              "      <td>...</td>\n",
              "    </tr>\n",
              "    <tr>\n",
              "      <th>95</th>\n",
              "      <td>4.6</td>\n",
              "    </tr>\n",
              "    <tr>\n",
              "      <th>96</th>\n",
              "      <td>2.4</td>\n",
              "    </tr>\n",
              "    <tr>\n",
              "      <th>97</th>\n",
              "      <td>6.1</td>\n",
              "    </tr>\n",
              "    <tr>\n",
              "      <th>98</th>\n",
              "      <td>9.2</td>\n",
              "    </tr>\n",
              "    <tr>\n",
              "      <th>99</th>\n",
              "      <td>10.3</td>\n",
              "    </tr>\n",
              "  </tbody>\n",
              "</table>\n",
              "<p>100 rows × 1 columns</p>\n",
              "</div>\n",
              "      <button class=\"colab-df-convert\" onclick=\"convertToInteractive('df-5eab4361-b36c-4464-8437-c539ba5b969b')\"\n",
              "              title=\"Convert this dataframe to an interactive table.\"\n",
              "              style=\"display:none;\">\n",
              "        \n",
              "  <svg xmlns=\"http://www.w3.org/2000/svg\" height=\"24px\"viewBox=\"0 0 24 24\"\n",
              "       width=\"24px\">\n",
              "    <path d=\"M0 0h24v24H0V0z\" fill=\"none\"/>\n",
              "    <path d=\"M18.56 5.44l.94 2.06.94-2.06 2.06-.94-2.06-.94-.94-2.06-.94 2.06-2.06.94zm-11 1L8.5 8.5l.94-2.06 2.06-.94-2.06-.94L8.5 2.5l-.94 2.06-2.06.94zm10 10l.94 2.06.94-2.06 2.06-.94-2.06-.94-.94-2.06-.94 2.06-2.06.94z\"/><path d=\"M17.41 7.96l-1.37-1.37c-.4-.4-.92-.59-1.43-.59-.52 0-1.04.2-1.43.59L10.3 9.45l-7.72 7.72c-.78.78-.78 2.05 0 2.83L4 21.41c.39.39.9.59 1.41.59.51 0 1.02-.2 1.41-.59l7.78-7.78 2.81-2.81c.8-.78.8-2.07 0-2.86zM5.41 20L4 18.59l7.72-7.72 1.47 1.35L5.41 20z\"/>\n",
              "  </svg>\n",
              "      </button>\n",
              "      \n",
              "  <style>\n",
              "    .colab-df-container {\n",
              "      display:flex;\n",
              "      flex-wrap:wrap;\n",
              "      gap: 12px;\n",
              "    }\n",
              "\n",
              "    .colab-df-convert {\n",
              "      background-color: #E8F0FE;\n",
              "      border: none;\n",
              "      border-radius: 50%;\n",
              "      cursor: pointer;\n",
              "      display: none;\n",
              "      fill: #1967D2;\n",
              "      height: 32px;\n",
              "      padding: 0 0 0 0;\n",
              "      width: 32px;\n",
              "    }\n",
              "\n",
              "    .colab-df-convert:hover {\n",
              "      background-color: #E2EBFA;\n",
              "      box-shadow: 0px 1px 2px rgba(60, 64, 67, 0.3), 0px 1px 3px 1px rgba(60, 64, 67, 0.15);\n",
              "      fill: #174EA6;\n",
              "    }\n",
              "\n",
              "    [theme=dark] .colab-df-convert {\n",
              "      background-color: #3B4455;\n",
              "      fill: #D2E3FC;\n",
              "    }\n",
              "\n",
              "    [theme=dark] .colab-df-convert:hover {\n",
              "      background-color: #434B5C;\n",
              "      box-shadow: 0px 1px 3px 1px rgba(0, 0, 0, 0.15);\n",
              "      filter: drop-shadow(0px 1px 2px rgba(0, 0, 0, 0.3));\n",
              "      fill: #FFFFFF;\n",
              "    }\n",
              "  </style>\n",
              "\n",
              "      <script>\n",
              "        const buttonEl =\n",
              "          document.querySelector('#df-5eab4361-b36c-4464-8437-c539ba5b969b button.colab-df-convert');\n",
              "        buttonEl.style.display =\n",
              "          google.colab.kernel.accessAllowed ? 'block' : 'none';\n",
              "\n",
              "        async function convertToInteractive(key) {\n",
              "          const element = document.querySelector('#df-5eab4361-b36c-4464-8437-c539ba5b969b');\n",
              "          const dataTable =\n",
              "            await google.colab.kernel.invokeFunction('convertToInteractive',\n",
              "                                                     [key], {});\n",
              "          if (!dataTable) return;\n",
              "\n",
              "          const docLinkHtml = 'Like what you see? Visit the ' +\n",
              "            '<a target=\"_blank\" href=https://colab.research.google.com/notebooks/data_table.ipynb>data table notebook</a>'\n",
              "            + ' to learn more about interactive tables.';\n",
              "          element.innerHTML = '';\n",
              "          dataTable['output_type'] = 'display_data';\n",
              "          await google.colab.output.renderOutput(dataTable, element);\n",
              "          const docLink = document.createElement('div');\n",
              "          docLink.innerHTML = docLinkHtml;\n",
              "          element.appendChild(docLink);\n",
              "        }\n",
              "      </script>\n",
              "    </div>\n",
              "  </div>\n",
              "  "
            ]
          },
          "metadata": {},
          "execution_count": 170
        }
      ]
    },
    {
      "cell_type": "code",
      "source": [
        "df = df.sort_values(by=\"X\")\n",
        "array = np.array(df[\"X\"])\n",
        "array"
      ],
      "metadata": {
        "colab": {
          "base_uri": "https://localhost:8080/"
        },
        "id": "mHH2U_7CGS-7",
        "outputId": "726d892c-d2e3-4812-b19a-d2c1f9107c09"
      },
      "execution_count": null,
      "outputs": [
        {
          "output_type": "execute_result",
          "data": {
            "text/plain": [
              "array([ 0.2,  0.3,  0.4,  0.5,  0.7,  0.8,  1. ,  1.1,  1.2,  1.4,  1.7,\n",
              "        1.8,  1.9,  2.1,  2.2,  2.3,  2.4,  2.5,  2.6,  2.9,  3.1,  3.2,\n",
              "        3.3,  3.4,  3.6,  3.7,  3.8,  4.2,  4.3,  4.4,  4.4,  4.5,  4.6,\n",
              "        4.7,  4.7,  4.8,  4.9,  5. ,  5.1,  5.2,  5.3,  5.5,  5.6,  5.7,\n",
              "        5.7,  5.8,  5.9,  5.9,  6. ,  6.1,  6.2,  6.2,  6.3,  6.4,  6.5,\n",
              "        6.8,  6.9,  7. ,  7.1,  7.2,  7.3,  7.3,  7.4,  7.5,  7.6,  7.7,\n",
              "        7.8,  7.9,  8.1,  8.2,  8.3,  8.4,  8.6,  8.7,  8.8,  8.9,  9. ,\n",
              "        9.1,  9.2,  9.4,  9.5,  9.6,  9.7,  9.9, 10. , 10.1, 10.2, 10.3,\n",
              "       10.5, 10.9, 11.1, 11.2, 11.3, 11.4, 11.5, 11.6, 11.7, 11.8, 11.9,\n",
              "       11.9])"
            ]
          },
          "metadata": {},
          "execution_count": 171
        }
      ]
    },
    {
      "cell_type": "code",
      "source": [
        "range_of_variation = max(array) - min(array)\n",
        "range_of_variation"
      ],
      "metadata": {
        "colab": {
          "base_uri": "https://localhost:8080/"
        },
        "id": "UUX-Mhy6Hgba",
        "outputId": "81edb41e-bacb-4cbe-8b21-2438cf207e48"
      },
      "execution_count": null,
      "outputs": [
        {
          "output_type": "execute_result",
          "data": {
            "text/plain": [
              "11.700000000000001"
            ]
          },
          "metadata": {},
          "execution_count": 172
        }
      ]
    },
    {
      "cell_type": "code",
      "source": [
        "import math\n",
        "h_interval = (range_of_variation)/(9)\n",
        "h_interval"
      ],
      "metadata": {
        "colab": {
          "base_uri": "https://localhost:8080/"
        },
        "id": "XPx9eG8TJ_U3",
        "outputId": "7bbc49f7-3195-4fc2-fdfb-a8d7837bb631"
      },
      "execution_count": null,
      "outputs": [
        {
          "output_type": "execute_result",
          "data": {
            "text/plain": [
              "1.3"
            ]
          },
          "metadata": {},
          "execution_count": 173
        }
      ]
    },
    {
      "cell_type": "code",
      "source": [
        "interval_df = pd.DataFrame(columns=[\"Left bound\", \"Right bound\", \"Middle of the interval\", \"Frequency of the interval\", \"Relative frequency\", \"Relative frequency density\"])\n",
        "# at first, we need to form the array with bounds: \n",
        "X = [] \n",
        "left = array[0]\n",
        "right = array[-1]\n",
        "\n",
        "while left < right + h_interval:\n",
        "  X.append(left)\n",
        "  left += h_interval\n",
        "\n",
        "\n",
        "for i in range(1, len(X)):\n",
        "  #We need to find left and right bounds and the middle of the interval\n",
        "  left_bound = X[i-1]\n",
        "  right_bound = X[i]\n",
        "  middle = (right_bound + left_bound)/2\n",
        "  #Here we're going to find frequency, relative frequency and relative vreauency density\n",
        "  interval_array_size = len(df.query(\"X >= \" + str(left_bound) + \" & X<= \"+str(right_bound)))\n",
        "  rel_frequency = interval_array_size/len(array)\n",
        "  rel_frequency_density = rel_frequency/h_interval\n",
        "\n",
        "  #Forming the new line of data frame\n",
        "  new_line = [left_bound, right_bound, middle, interval_array_size, rel_frequency, rel_frequency_density]\n",
        "  interval_df.loc[len(interval_df)] = new_line\n",
        "\n",
        "middles = interval_df[\"Middle of the interval\"]\n",
        "frequencies = interval_df[\"Frequency of the interval\"]\n",
        "relative_frequencies = interval_df[\"Relative frequency\"]\n",
        "interval_df"
      ],
      "metadata": {
        "colab": {
          "base_uri": "https://localhost:8080/",
          "height": 372
        },
        "id": "w_10btHciX_N",
        "outputId": "450943e7-139e-484f-b74e-d7722d0744c3"
      },
      "execution_count": null,
      "outputs": [
        {
          "output_type": "execute_result",
          "data": {
            "text/plain": [
              "   Left bound  Right bound  Middle of the interval  Frequency of the interval  \\\n",
              "0         0.2          1.5                    0.85                       10.0   \n",
              "1         1.5          2.8                    2.15                        9.0   \n",
              "2         2.8          4.1                    3.45                        8.0   \n",
              "3         4.1          5.4                    4.75                       14.0   \n",
              "4         5.4          6.7                    6.05                       14.0   \n",
              "5         6.7          8.0                    7.35                       13.0   \n",
              "6         8.0          9.3                    8.65                       11.0   \n",
              "7         9.3         10.6                    9.95                       10.0   \n",
              "8        10.6         11.9                   11.25                       11.0   \n",
              "\n",
              "   Relative frequency  Relative frequency density  \n",
              "0                0.10                    0.076923  \n",
              "1                0.09                    0.069231  \n",
              "2                0.08                    0.061538  \n",
              "3                0.14                    0.107692  \n",
              "4                0.14                    0.107692  \n",
              "5                0.13                    0.100000  \n",
              "6                0.11                    0.084615  \n",
              "7                0.10                    0.076923  \n",
              "8                0.11                    0.084615  "
            ],
            "text/html": [
              "\n",
              "  <div id=\"df-dc4b584f-4402-4e2c-a463-06772e387a1c\">\n",
              "    <div class=\"colab-df-container\">\n",
              "      <div>\n",
              "<style scoped>\n",
              "    .dataframe tbody tr th:only-of-type {\n",
              "        vertical-align: middle;\n",
              "    }\n",
              "\n",
              "    .dataframe tbody tr th {\n",
              "        vertical-align: top;\n",
              "    }\n",
              "\n",
              "    .dataframe thead th {\n",
              "        text-align: right;\n",
              "    }\n",
              "</style>\n",
              "<table border=\"1\" class=\"dataframe\">\n",
              "  <thead>\n",
              "    <tr style=\"text-align: right;\">\n",
              "      <th></th>\n",
              "      <th>Left bound</th>\n",
              "      <th>Right bound</th>\n",
              "      <th>Middle of the interval</th>\n",
              "      <th>Frequency of the interval</th>\n",
              "      <th>Relative frequency</th>\n",
              "      <th>Relative frequency density</th>\n",
              "    </tr>\n",
              "  </thead>\n",
              "  <tbody>\n",
              "    <tr>\n",
              "      <th>0</th>\n",
              "      <td>0.2</td>\n",
              "      <td>1.5</td>\n",
              "      <td>0.85</td>\n",
              "      <td>10.0</td>\n",
              "      <td>0.10</td>\n",
              "      <td>0.076923</td>\n",
              "    </tr>\n",
              "    <tr>\n",
              "      <th>1</th>\n",
              "      <td>1.5</td>\n",
              "      <td>2.8</td>\n",
              "      <td>2.15</td>\n",
              "      <td>9.0</td>\n",
              "      <td>0.09</td>\n",
              "      <td>0.069231</td>\n",
              "    </tr>\n",
              "    <tr>\n",
              "      <th>2</th>\n",
              "      <td>2.8</td>\n",
              "      <td>4.1</td>\n",
              "      <td>3.45</td>\n",
              "      <td>8.0</td>\n",
              "      <td>0.08</td>\n",
              "      <td>0.061538</td>\n",
              "    </tr>\n",
              "    <tr>\n",
              "      <th>3</th>\n",
              "      <td>4.1</td>\n",
              "      <td>5.4</td>\n",
              "      <td>4.75</td>\n",
              "      <td>14.0</td>\n",
              "      <td>0.14</td>\n",
              "      <td>0.107692</td>\n",
              "    </tr>\n",
              "    <tr>\n",
              "      <th>4</th>\n",
              "      <td>5.4</td>\n",
              "      <td>6.7</td>\n",
              "      <td>6.05</td>\n",
              "      <td>14.0</td>\n",
              "      <td>0.14</td>\n",
              "      <td>0.107692</td>\n",
              "    </tr>\n",
              "    <tr>\n",
              "      <th>5</th>\n",
              "      <td>6.7</td>\n",
              "      <td>8.0</td>\n",
              "      <td>7.35</td>\n",
              "      <td>13.0</td>\n",
              "      <td>0.13</td>\n",
              "      <td>0.100000</td>\n",
              "    </tr>\n",
              "    <tr>\n",
              "      <th>6</th>\n",
              "      <td>8.0</td>\n",
              "      <td>9.3</td>\n",
              "      <td>8.65</td>\n",
              "      <td>11.0</td>\n",
              "      <td>0.11</td>\n",
              "      <td>0.084615</td>\n",
              "    </tr>\n",
              "    <tr>\n",
              "      <th>7</th>\n",
              "      <td>9.3</td>\n",
              "      <td>10.6</td>\n",
              "      <td>9.95</td>\n",
              "      <td>10.0</td>\n",
              "      <td>0.10</td>\n",
              "      <td>0.076923</td>\n",
              "    </tr>\n",
              "    <tr>\n",
              "      <th>8</th>\n",
              "      <td>10.6</td>\n",
              "      <td>11.9</td>\n",
              "      <td>11.25</td>\n",
              "      <td>11.0</td>\n",
              "      <td>0.11</td>\n",
              "      <td>0.084615</td>\n",
              "    </tr>\n",
              "  </tbody>\n",
              "</table>\n",
              "</div>\n",
              "      <button class=\"colab-df-convert\" onclick=\"convertToInteractive('df-dc4b584f-4402-4e2c-a463-06772e387a1c')\"\n",
              "              title=\"Convert this dataframe to an interactive table.\"\n",
              "              style=\"display:none;\">\n",
              "        \n",
              "  <svg xmlns=\"http://www.w3.org/2000/svg\" height=\"24px\"viewBox=\"0 0 24 24\"\n",
              "       width=\"24px\">\n",
              "    <path d=\"M0 0h24v24H0V0z\" fill=\"none\"/>\n",
              "    <path d=\"M18.56 5.44l.94 2.06.94-2.06 2.06-.94-2.06-.94-.94-2.06-.94 2.06-2.06.94zm-11 1L8.5 8.5l.94-2.06 2.06-.94-2.06-.94L8.5 2.5l-.94 2.06-2.06.94zm10 10l.94 2.06.94-2.06 2.06-.94-2.06-.94-.94-2.06-.94 2.06-2.06.94z\"/><path d=\"M17.41 7.96l-1.37-1.37c-.4-.4-.92-.59-1.43-.59-.52 0-1.04.2-1.43.59L10.3 9.45l-7.72 7.72c-.78.78-.78 2.05 0 2.83L4 21.41c.39.39.9.59 1.41.59.51 0 1.02-.2 1.41-.59l7.78-7.78 2.81-2.81c.8-.78.8-2.07 0-2.86zM5.41 20L4 18.59l7.72-7.72 1.47 1.35L5.41 20z\"/>\n",
              "  </svg>\n",
              "      </button>\n",
              "      \n",
              "  <style>\n",
              "    .colab-df-container {\n",
              "      display:flex;\n",
              "      flex-wrap:wrap;\n",
              "      gap: 12px;\n",
              "    }\n",
              "\n",
              "    .colab-df-convert {\n",
              "      background-color: #E8F0FE;\n",
              "      border: none;\n",
              "      border-radius: 50%;\n",
              "      cursor: pointer;\n",
              "      display: none;\n",
              "      fill: #1967D2;\n",
              "      height: 32px;\n",
              "      padding: 0 0 0 0;\n",
              "      width: 32px;\n",
              "    }\n",
              "\n",
              "    .colab-df-convert:hover {\n",
              "      background-color: #E2EBFA;\n",
              "      box-shadow: 0px 1px 2px rgba(60, 64, 67, 0.3), 0px 1px 3px 1px rgba(60, 64, 67, 0.15);\n",
              "      fill: #174EA6;\n",
              "    }\n",
              "\n",
              "    [theme=dark] .colab-df-convert {\n",
              "      background-color: #3B4455;\n",
              "      fill: #D2E3FC;\n",
              "    }\n",
              "\n",
              "    [theme=dark] .colab-df-convert:hover {\n",
              "      background-color: #434B5C;\n",
              "      box-shadow: 0px 1px 3px 1px rgba(0, 0, 0, 0.15);\n",
              "      filter: drop-shadow(0px 1px 2px rgba(0, 0, 0, 0.3));\n",
              "      fill: #FFFFFF;\n",
              "    }\n",
              "  </style>\n",
              "\n",
              "      <script>\n",
              "        const buttonEl =\n",
              "          document.querySelector('#df-dc4b584f-4402-4e2c-a463-06772e387a1c button.colab-df-convert');\n",
              "        buttonEl.style.display =\n",
              "          google.colab.kernel.accessAllowed ? 'block' : 'none';\n",
              "\n",
              "        async function convertToInteractive(key) {\n",
              "          const element = document.querySelector('#df-dc4b584f-4402-4e2c-a463-06772e387a1c');\n",
              "          const dataTable =\n",
              "            await google.colab.kernel.invokeFunction('convertToInteractive',\n",
              "                                                     [key], {});\n",
              "          if (!dataTable) return;\n",
              "\n",
              "          const docLinkHtml = 'Like what you see? Visit the ' +\n",
              "            '<a target=\"_blank\" href=https://colab.research.google.com/notebooks/data_table.ipynb>data table notebook</a>'\n",
              "            + ' to learn more about interactive tables.';\n",
              "          element.innerHTML = '';\n",
              "          dataTable['output_type'] = 'display_data';\n",
              "          await google.colab.output.renderOutput(dataTable, element);\n",
              "          const docLink = document.createElement('div');\n",
              "          docLink.innerHTML = docLinkHtml;\n",
              "          element.appendChild(docLink);\n",
              "        }\n",
              "      </script>\n",
              "    </div>\n",
              "  </div>\n",
              "  "
            ]
          },
          "metadata": {},
          "execution_count": 174
        }
      ]
    },
    {
      "cell_type": "markdown",
      "source": [
        "Lets draw the polygon"
      ],
      "metadata": {
        "id": "pQOEoTLQqD7X"
      }
    },
    {
      "cell_type": "code",
      "source": [
        "import matplotlib.pyplot as plt\n",
        "plt.xlabel(\"X\")\n",
        "plt.ylabel(\"Frequency\")\n",
        "plt.title(\"Polygon of frequencies\")\n",
        "plt.grid(True)\n",
        "plt.plot(middles, frequencies, marker=\"o\")\n"
      ],
      "metadata": {
        "colab": {
          "base_uri": "https://localhost:8080/",
          "height": 489
        },
        "id": "pp2Mcy0mqDpr",
        "outputId": "f378a440-7f09-41aa-d5da-ab105e21ca3b"
      },
      "execution_count": null,
      "outputs": [
        {
          "output_type": "execute_result",
          "data": {
            "text/plain": [
              "[<matplotlib.lines.Line2D at 0x7f0732a6f9a0>]"
            ]
          },
          "metadata": {},
          "execution_count": 175
        },
        {
          "output_type": "display_data",
          "data": {
            "text/plain": [
              "<Figure size 640x480 with 1 Axes>"
            ],
            "image/png": "[encoded data removed]"
          },
          "metadata": {}
        }
      ]
    },
    {
      "cell_type": "markdown",
      "source": [
        "Now we need to draw histogram of relative frequencies"
      ],
      "metadata": {
        "id": "QWT7otHirK96"
      }
    },
    {
      "cell_type": "code",
      "source": [
        "import numpy as np\n",
        "plt.title(\"Histogram of relative frequencies\")\n",
        "plt.xlabel(\"X\")\n",
        "plt.ylabel(\"Realtive frequiency\")\n",
        "plt.hist(array, edgecolor=\"black\", weights=np.ones_like(array)/len(array), bins=X)"
      ],
      "metadata": {
        "colab": {
          "base_uri": "https://localhost:8080/",
          "height": 523
        },
        "id": "L3HaY00-rSIj",
        "outputId": "9ffc5369-9f96-48d9-8715-dba47593c8dd"
      },
      "execution_count": null,
      "outputs": [
        {
          "output_type": "execute_result",
          "data": {
            "text/plain": [
              "(array([0.1 , 0.09, 0.08, 0.14, 0.14, 0.13, 0.11, 0.1 , 0.11]),\n",
              " array([ 0.2,  1.5,  2.8,  4.1,  5.4,  6.7,  8. ,  9.3, 10.6, 11.9]),\n",
              " <BarContainer object of 9 artists>)"
            ]
          },
          "metadata": {},
          "execution_count": 176
        },
        {
          "output_type": "display_data",
          "data": {
            "text/plain": [
              "<Figure size 640x480 with 1 Axes>"
            ],
            "image/png": "[encoded data removed]"
          },
          "metadata": {}
        }
      ]
    },
    {
      "cell_type": "markdown",
      "source": [
        "Now we should generate empirical distribution function"
      ],
      "metadata": {
        "id": "ic-Eux-CuiTI"
      }
    },
    {
      "cell_type": "code",
      "source": [
        "array = list(array)\n",
        "X = list(X)\n",
        "relative_frequencies = list(relative_frequencies)\n",
        "def F(x):\n",
        "  prob = 0\n",
        "  i = 0\n",
        "  if (x > X[-1]):\n",
        "    return 1 \n",
        "  if (x < X[0]):\n",
        "    return 0\n",
        "  while x > X[i]:\n",
        "    prob += relative_frequencies[i]\n",
        "    i+=1\n",
        "  return prob"
      ],
      "metadata": {
        "id": "qRyaHtI1tcda"
      },
      "execution_count": null,
      "outputs": []
    },
    {
      "cell_type": "code",
      "source": [
        "a = plt.hist(array, histtype='step', cumulative=True, bins=len(array), color=\"Red\")"
      ],
      "metadata": {
        "colab": {
          "base_uri": "https://localhost:8080/",
          "height": 430
        },
        "id": "YJo1rCpN5VEA",
        "outputId": "b29fb6d7-64d4-421e-cc56-279da7bd6cd1"
      },
      "execution_count": null,
      "outputs": [
        {
          "output_type": "display_data",
          "data": {
            "text/plain": [
              "<Figure size 640x480 with 1 Axes>"
            ],
            "image/png": "[encoded data removed]"
          },
          "metadata": {}
        }
      ]
    },
    {
      "cell_type": "code",
      "source": [
        "XI = [ii for ii in X]\n",
        "YI = [F(ii) for ii in XI]\n",
        "plt.xlabel(\"X\")\n",
        "plt.ylabel(\"F(X)\")\n",
        "plt.title(\"Empirical distribution function\")\n",
        "plt.grid(True)\n",
        "\n",
        "plt.plot(XI, YI, marker=\"o\")\n"
      ],
      "metadata": {
        "colab": {
          "base_uri": "https://localhost:8080/",
          "height": 489
        },
        "id": "vqLgH2uh3ABS",
        "outputId": "a024b419-a069-4908-d782-d604759b1728"
      },
      "execution_count": null,
      "outputs": [
        {
          "output_type": "execute_result",
          "data": {
            "text/plain": [
              "[<matplotlib.lines.Line2D at 0x7f0732e642b0>]"
            ]
          },
          "metadata": {},
          "execution_count": 179
        },
        {
          "output_type": "display_data",
          "data": {
            "text/plain": [
              "<Figure size 640x480 with 1 Axes>"
            ],
            "image/png": "[encoded data removed]"
          },
          "metadata": {}
        }
      ]
    },
    {
      "cell_type": "code",
      "source": [
        "a = plt.step(XI, YI,color=\"Red\", where=\"post\")\n"
      ],
      "metadata": {
        "colab": {
          "base_uri": "https://localhost:8080/",
          "height": 430
        },
        "id": "IepNyi_G9lV8",
        "outputId": "1c22b41f-84e8-475f-e261-7d9f871eb3bf"
      },
      "execution_count": null,
      "outputs": [
        {
          "output_type": "display_data",
          "data": {
            "text/plain": [
              "<Figure size 640x480 with 1 Axes>"
            ],
            "image/png": "[encoded data removed]"
          },
          "metadata": {}
        }
      ]
    },
    {
      "cell_type": "markdown",
      "source": [
        "We can't use lib math functions, so lets create them..."
      ],
      "metadata": {
        "id": "-dakBwQ334-D"
      }
    },
    {
      "cell_type": "code",
      "source": [
        "def mean(X):\n",
        "  summary = 0 \n",
        "  for i in range(1, len(X)):\n",
        "    summary += (X[i] + X[i-1])/2 * frequencies[i-1]\n",
        "  return summary/len(array)\n",
        "\n",
        "\n",
        "def variance(X):\n",
        "  x_mean = mean(X)\n",
        "  answer = 0 \n",
        "  for i in range(1, len(X)):\n",
        "    answer += (((X[i]+X[i-1])/2)**2 * frequencies[i-1])\n",
        "  return answer/len(array) - x_mean**2\n",
        "\n",
        "def standard_deviation(X):\n",
        "  return variance(X)**0.5\n",
        "\n",
        "def fixed_variance(X):\n",
        "  return len(array)/(len(array)-1) * variance(X)\n",
        "\n",
        "def fixed_standard_deviation(X):\n",
        "  return fixed_variance(X)**0.5"
      ],
      "metadata": {
        "id": "Y8qolCxa34UW"
      },
      "execution_count": null,
      "outputs": []
    },
    {
      "cell_type": "markdown",
      "source": [
        "Searching for mean(X)"
      ],
      "metadata": {
        "id": "J6B8l1J_4faN"
      }
    },
    {
      "cell_type": "code",
      "source": [
        "x_mean = mean(X)\n",
        "x_mean"
      ],
      "metadata": {
        "colab": {
          "base_uri": "https://localhost:8080/"
        },
        "id": "W-ydgMPS4djx",
        "outputId": "298dc1d8-a815-4f7b-8a1c-b15e8210076f"
      },
      "execution_count": null,
      "outputs": [
        {
          "output_type": "execute_result",
          "data": {
            "text/plain": [
              "6.2059999999999995"
            ]
          },
          "metadata": {},
          "execution_count": 182
        }
      ]
    },
    {
      "cell_type": "markdown",
      "source": [
        "Searching for variance"
      ],
      "metadata": {
        "id": "8PLGEpor5CjN"
      }
    },
    {
      "cell_type": "code",
      "source": [
        "x_var = variance(X)\n",
        "x_var"
      ],
      "metadata": {
        "colab": {
          "base_uri": "https://localhost:8080/"
        },
        "id": "-vgyOK0j4_VF",
        "outputId": "2063960b-c9a3-461e-b70a-0252502b2d20"
      },
      "execution_count": null,
      "outputs": [
        {
          "output_type": "execute_result",
          "data": {
            "text/plain": [
              "10.284663999999992"
            ]
          },
          "metadata": {},
          "execution_count": 183
        }
      ]
    },
    {
      "cell_type": "markdown",
      "source": [
        "Searching for mean standard deviation"
      ],
      "metadata": {
        "id": "w1-_5P5-4uAE"
      }
    },
    {
      "cell_type": "code",
      "source": [
        "x_std = standard_deviation(X)\n",
        "x_std"
      ],
      "metadata": {
        "colab": {
          "base_uri": "https://localhost:8080/"
        },
        "id": "LhFhAsR-4v0g",
        "outputId": "504fc727-0cb3-4181-b22e-a15c4b71a345"
      },
      "execution_count": null,
      "outputs": [
        {
          "output_type": "execute_result",
          "data": {
            "text/plain": [
              "3.2069711567146957"
            ]
          },
          "metadata": {},
          "execution_count": 184
        }
      ]
    },
    {
      "cell_type": "markdown",
      "source": [
        "Searching for fixed variance"
      ],
      "metadata": {
        "id": "jlUylQGs6djc"
      }
    },
    {
      "cell_type": "code",
      "source": [
        "x_var_fixed = fixed_variance(X)\n",
        "x_var_fixed"
      ],
      "metadata": {
        "colab": {
          "base_uri": "https://localhost:8080/"
        },
        "id": "i4jfSI2k6HL_",
        "outputId": "7ec9b361-5a06-4379-e42a-5fa07771f11f"
      },
      "execution_count": null,
      "outputs": [
        {
          "output_type": "execute_result",
          "data": {
            "text/plain": [
              "10.388549494949487"
            ]
          },
          "metadata": {},
          "execution_count": 185
        }
      ]
    },
    {
      "cell_type": "markdown",
      "source": [
        "Searching for fixed standard deviation"
      ],
      "metadata": {
        "id": "5Z5Ch-DB6f4I"
      }
    },
    {
      "cell_type": "code",
      "source": [
        "x_std_fixed = fixed_standard_deviation(X)\n",
        "x_std_fixed"
      ],
      "metadata": {
        "colab": {
          "base_uri": "https://localhost:8080/"
        },
        "id": "36HPJSOc6iyn",
        "outputId": "27516b57-d123-42ca-c1a1-d79be88c1c87"
      },
      "execution_count": null,
      "outputs": [
        {
          "output_type": "execute_result",
          "data": {
            "text/plain": [
              "3.2231272849438457"
            ]
          },
          "metadata": {},
          "execution_count": 186
        }
      ]
    },
    {
      "cell_type": "code",
      "source": [
        "freq_df = pd.DataFrame(columns=[\"Left bound\", \"Right bound\", \"Middle of the interval, x'_i\", \"Frequency of the interval, n_i\", \"n_i * x'_i\", \"(x'_i)^2\", \"n_i * (x'_i)^2\"])\n",
        "\n",
        "for i in range(1, len(X)):\n",
        "  left_bound = X[i-1]\n",
        "  right_bound = X[i]\n",
        "  middle = (left_bound + right_bound)/2\n",
        "  freq = frequencies[i-1]\n",
        "  ni_xi = middle * freq\n",
        "  xi_xi = middle**2\n",
        "  ni_xi_xi = ni_xi * middle\n",
        "\n",
        "  new_line = [left_bound, right_bound, middle, freq, ni_xi, xi_xi, ni_xi_xi]\n",
        "  freq_df.loc[len(freq_df)] = new_line\n",
        "freq_df"
      ],
      "metadata": {
        "colab": {
          "base_uri": "https://localhost:8080/",
          "height": 372
        },
        "id": "lE53CvXtFBHg",
        "outputId": "04491f88-3681-4f13-ab2e-f18a0fd414f5"
      },
      "execution_count": null,
      "outputs": [
        {
          "output_type": "execute_result",
          "data": {
            "text/plain": [
              "   Left bound  Right bound  Middle of the interval, x'_i  \\\n",
              "0         0.2          1.5                          0.85   \n",
              "1         1.5          2.8                          2.15   \n",
              "2         2.8          4.1                          3.45   \n",
              "3         4.1          5.4                          4.75   \n",
              "4         5.4          6.7                          6.05   \n",
              "5         6.7          8.0                          7.35   \n",
              "6         8.0          9.3                          8.65   \n",
              "7         9.3         10.6                          9.95   \n",
              "8        10.6         11.9                         11.25   \n",
              "\n",
              "   Frequency of the interval, n_i  n_i * x'_i  (x'_i)^2  n_i * (x'_i)^2  \n",
              "0                            10.0        8.50    0.7225          7.2250  \n",
              "1                             9.0       19.35    4.6225         41.6025  \n",
              "2                             8.0       27.60   11.9025         95.2200  \n",
              "3                            14.0       66.50   22.5625        315.8750  \n",
              "4                            14.0       84.70   36.6025        512.4350  \n",
              "5                            13.0       95.55   54.0225        702.2925  \n",
              "6                            11.0       95.15   74.8225        823.0475  \n",
              "7                            10.0       99.50   99.0025        990.0250  \n",
              "8                            11.0      123.75  126.5625       1392.1875  "
            ],
            "text/html": [
              "\n",
              "  <div id=\"df-fd277d6b-de14-45a5-b85a-920b8d240ea8\">\n",
              "    <div class=\"colab-df-container\">\n",
              "      <div>\n",
              "<style scoped>\n",
              "    .dataframe tbody tr th:only-of-type {\n",
              "        vertical-align: middle;\n",
              "    }\n",
              "\n",
              "    .dataframe tbody tr th {\n",
              "        vertical-align: top;\n",
              "    }\n",
              "\n",
              "    .dataframe thead th {\n",
              "        text-align: right;\n",
              "    }\n",
              "</style>\n",
              "<table border=\"1\" class=\"dataframe\">\n",
              "  <thead>\n",
              "    <tr style=\"text-align: right;\">\n",
              "      <th></th>\n",
              "      <th>Left bound</th>\n",
              "      <th>Right bound</th>\n",
              "      <th>Middle of the interval, x'_i</th>\n",
              "      <th>Frequency of the interval, n_i</th>\n",
              "      <th>n_i * x'_i</th>\n",
              "      <th>(x'_i)^2</th>\n",
              "      <th>n_i * (x'_i)^2</th>\n",
              "    </tr>\n",
              "  </thead>\n",
              "  <tbody>\n",
              "    <tr>\n",
              "      <th>0</th>\n",
              "      <td>0.2</td>\n",
              "      <td>1.5</td>\n",
              "      <td>0.85</td>\n",
              "      <td>10.0</td>\n",
              "      <td>8.50</td>\n",
              "      <td>0.7225</td>\n",
              "      <td>7.2250</td>\n",
              "    </tr>\n",
              "    <tr>\n",
              "      <th>1</th>\n",
              "      <td>1.5</td>\n",
              "      <td>2.8</td>\n",
              "      <td>2.15</td>\n",
              "      <td>9.0</td>\n",
              "      <td>19.35</td>\n",
              "      <td>4.6225</td>\n",
              "      <td>41.6025</td>\n",
              "    </tr>\n",
              "    <tr>\n",
              "      <th>2</th>\n",
              "      <td>2.8</td>\n",
              "      <td>4.1</td>\n",
              "      <td>3.45</td>\n",
              "      <td>8.0</td>\n",
              "      <td>27.60</td>\n",
              "      <td>11.9025</td>\n",
              "      <td>95.2200</td>\n",
              "    </tr>\n",
              "    <tr>\n",
              "      <th>3</th>\n",
              "      <td>4.1</td>\n",
              "      <td>5.4</td>\n",
              "      <td>4.75</td>\n",
              "      <td>14.0</td>\n",
              "      <td>66.50</td>\n",
              "      <td>22.5625</td>\n",
              "      <td>315.8750</td>\n",
              "    </tr>\n",
              "    <tr>\n",
              "      <th>4</th>\n",
              "      <td>5.4</td>\n",
              "      <td>6.7</td>\n",
              "      <td>6.05</td>\n",
              "      <td>14.0</td>\n",
              "      <td>84.70</td>\n",
              "      <td>36.6025</td>\n",
              "      <td>512.4350</td>\n",
              "    </tr>\n",
              "    <tr>\n",
              "      <th>5</th>\n",
              "      <td>6.7</td>\n",
              "      <td>8.0</td>\n",
              "      <td>7.35</td>\n",
              "      <td>13.0</td>\n",
              "      <td>95.55</td>\n",
              "      <td>54.0225</td>\n",
              "      <td>702.2925</td>\n",
              "    </tr>\n",
              "    <tr>\n",
              "      <th>6</th>\n",
              "      <td>8.0</td>\n",
              "      <td>9.3</td>\n",
              "      <td>8.65</td>\n",
              "      <td>11.0</td>\n",
              "      <td>95.15</td>\n",
              "      <td>74.8225</td>\n",
              "      <td>823.0475</td>\n",
              "    </tr>\n",
              "    <tr>\n",
              "      <th>7</th>\n",
              "      <td>9.3</td>\n",
              "      <td>10.6</td>\n",
              "      <td>9.95</td>\n",
              "      <td>10.0</td>\n",
              "      <td>99.50</td>\n",
              "      <td>99.0025</td>\n",
              "      <td>990.0250</td>\n",
              "    </tr>\n",
              "    <tr>\n",
              "      <th>8</th>\n",
              "      <td>10.6</td>\n",
              "      <td>11.9</td>\n",
              "      <td>11.25</td>\n",
              "      <td>11.0</td>\n",
              "      <td>123.75</td>\n",
              "      <td>126.5625</td>\n",
              "      <td>1392.1875</td>\n",
              "    </tr>\n",
              "  </tbody>\n",
              "</table>\n",
              "</div>\n",
              "      <button class=\"colab-df-convert\" onclick=\"convertToInteractive('df-fd277d6b-de14-45a5-b85a-920b8d240ea8')\"\n",
              "              title=\"Convert this dataframe to an interactive table.\"\n",
              "              style=\"display:none;\">\n",
              "        \n",
              "  <svg xmlns=\"http://www.w3.org/2000/svg\" height=\"24px\"viewBox=\"0 0 24 24\"\n",
              "       width=\"24px\">\n",
              "    <path d=\"M0 0h24v24H0V0z\" fill=\"none\"/>\n",
              "    <path d=\"M18.56 5.44l.94 2.06.94-2.06 2.06-.94-2.06-.94-.94-2.06-.94 2.06-2.06.94zm-11 1L8.5 8.5l.94-2.06 2.06-.94-2.06-.94L8.5 2.5l-.94 2.06-2.06.94zm10 10l.94 2.06.94-2.06 2.06-.94-2.06-.94-.94-2.06-.94 2.06-2.06.94z\"/><path d=\"M17.41 7.96l-1.37-1.37c-.4-.4-.92-.59-1.43-.59-.52 0-1.04.2-1.43.59L10.3 9.45l-7.72 7.72c-.78.78-.78 2.05 0 2.83L4 21.41c.39.39.9.59 1.41.59.51 0 1.02-.2 1.41-.59l7.78-7.78 2.81-2.81c.8-.78.8-2.07 0-2.86zM5.41 20L4 18.59l7.72-7.72 1.47 1.35L5.41 20z\"/>\n",
              "  </svg>\n",
              "      </button>\n",
              "      \n",
              "  <style>\n",
              "    .colab-df-container {\n",
              "      display:flex;\n",
              "      flex-wrap:wrap;\n",
              "      gap: 12px;\n",
              "    }\n",
              "\n",
              "    .colab-df-convert {\n",
              "      background-color: #E8F0FE;\n",
              "      border: none;\n",
              "      border-radius: 50%;\n",
              "      cursor: pointer;\n",
              "      display: none;\n",
              "      fill: #1967D2;\n",
              "      height: 32px;\n",
              "      padding: 0 0 0 0;\n",
              "      width: 32px;\n",
              "    }\n",
              "\n",
              "    .colab-df-convert:hover {\n",
              "      background-color: #E2EBFA;\n",
              "      box-shadow: 0px 1px 2px rgba(60, 64, 67, 0.3), 0px 1px 3px 1px rgba(60, 64, 67, 0.15);\n",
              "      fill: #174EA6;\n",
              "    }\n",
              "\n",
              "    [theme=dark] .colab-df-convert {\n",
              "      background-color: #3B4455;\n",
              "      fill: #D2E3FC;\n",
              "    }\n",
              "\n",
              "    [theme=dark] .colab-df-convert:hover {\n",
              "      background-color: #434B5C;\n",
              "      box-shadow: 0px 1px 3px 1px rgba(0, 0, 0, 0.15);\n",
              "      filter: drop-shadow(0px 1px 2px rgba(0, 0, 0, 0.3));\n",
              "      fill: #FFFFFF;\n",
              "    }\n",
              "  </style>\n",
              "\n",
              "      <script>\n",
              "        const buttonEl =\n",
              "          document.querySelector('#df-fd277d6b-de14-45a5-b85a-920b8d240ea8 button.colab-df-convert');\n",
              "        buttonEl.style.display =\n",
              "          google.colab.kernel.accessAllowed ? 'block' : 'none';\n",
              "\n",
              "        async function convertToInteractive(key) {\n",
              "          const element = document.querySelector('#df-fd277d6b-de14-45a5-b85a-920b8d240ea8');\n",
              "          const dataTable =\n",
              "            await google.colab.kernel.invokeFunction('convertToInteractive',\n",
              "                                                     [key], {});\n",
              "          if (!dataTable) return;\n",
              "\n",
              "          const docLinkHtml = 'Like what you see? Visit the ' +\n",
              "            '<a target=\"_blank\" href=https://colab.research.google.com/notebooks/data_table.ipynb>data table notebook</a>'\n",
              "            + ' to learn more about interactive tables.';\n",
              "          element.innerHTML = '';\n",
              "          dataTable['output_type'] = 'display_data';\n",
              "          await google.colab.output.renderOutput(dataTable, element);\n",
              "          const docLink = document.createElement('div');\n",
              "          docLink.innerHTML = docLinkHtml;\n",
              "          element.appendChild(docLink);\n",
              "        }\n",
              "      </script>\n",
              "    </div>\n",
              "  </div>\n",
              "  "
            ]
          },
          "metadata": {},
          "execution_count": 187
        }
      ]
    },
    {
      "cell_type": "code",
      "source": [
        "summary_df = pd.DataFrame(columns=[\"Sum frequencies\", \"Sum n_i * x'_i\", \"Sum n_i * (x'_i)^2\"])\n",
        "liner = [sum(freq_df[\"Frequency of the interval, n_i\"]), sum(freq_df[\"n_i * x'_i\"]), sum(freq_df[\"n_i * (x'_i)^2\"])]\n",
        "summary_df.loc[len(summary_df)] = liner \n",
        "summary_df"
      ],
      "metadata": {
        "colab": {
          "base_uri": "https://localhost:8080/",
          "height": 80
        },
        "id": "Q035xRa9FDj8",
        "outputId": "4b702c23-a8f3-4e78-d6b0-ecc5f573f250"
      },
      "execution_count": null,
      "outputs": [
        {
          "output_type": "execute_result",
          "data": {
            "text/plain": [
              "   Sum frequencies  Sum n_i * x'_i  Sum n_i * (x'_i)^2\n",
              "0            100.0           620.6             4879.91"
            ],
            "text/html": [
              "\n",
              "  <div id=\"df-e4efc93a-4395-4d1f-afc4-724c624276f3\">\n",
              "    <div class=\"colab-df-container\">\n",
              "      <div>\n",
              "<style scoped>\n",
              "    .dataframe tbody tr th:only-of-type {\n",
              "        vertical-align: middle;\n",
              "    }\n",
              "\n",
              "    .dataframe tbody tr th {\n",
              "        vertical-align: top;\n",
              "    }\n",
              "\n",
              "    .dataframe thead th {\n",
              "        text-align: right;\n",
              "    }\n",
              "</style>\n",
              "<table border=\"1\" class=\"dataframe\">\n",
              "  <thead>\n",
              "    <tr style=\"text-align: right;\">\n",
              "      <th></th>\n",
              "      <th>Sum frequencies</th>\n",
              "      <th>Sum n_i * x'_i</th>\n",
              "      <th>Sum n_i * (x'_i)^2</th>\n",
              "    </tr>\n",
              "  </thead>\n",
              "  <tbody>\n",
              "    <tr>\n",
              "      <th>0</th>\n",
              "      <td>100.0</td>\n",
              "      <td>620.6</td>\n",
              "      <td>4879.91</td>\n",
              "    </tr>\n",
              "  </tbody>\n",
              "</table>\n",
              "</div>\n",
              "      <button class=\"colab-df-convert\" onclick=\"convertToInteractive('df-e4efc93a-4395-4d1f-afc4-724c624276f3')\"\n",
              "              title=\"Convert this dataframe to an interactive table.\"\n",
              "              style=\"display:none;\">\n",
              "        \n",
              "  <svg xmlns=\"http://www.w3.org/2000/svg\" height=\"24px\"viewBox=\"0 0 24 24\"\n",
              "       width=\"24px\">\n",
              "    <path d=\"M0 0h24v24H0V0z\" fill=\"none\"/>\n",
              "    <path d=\"M18.56 5.44l.94 2.06.94-2.06 2.06-.94-2.06-.94-.94-2.06-.94 2.06-2.06.94zm-11 1L8.5 8.5l.94-2.06 2.06-.94-2.06-.94L8.5 2.5l-.94 2.06-2.06.94zm10 10l.94 2.06.94-2.06 2.06-.94-2.06-.94-.94-2.06-.94 2.06-2.06.94z\"/><path d=\"M17.41 7.96l-1.37-1.37c-.4-.4-.92-.59-1.43-.59-.52 0-1.04.2-1.43.59L10.3 9.45l-7.72 7.72c-.78.78-.78 2.05 0 2.83L4 21.41c.39.39.9.59 1.41.59.51 0 1.02-.2 1.41-.59l7.78-7.78 2.81-2.81c.8-.78.8-2.07 0-2.86zM5.41 20L4 18.59l7.72-7.72 1.47 1.35L5.41 20z\"/>\n",
              "  </svg>\n",
              "      </button>\n",
              "      \n",
              "  <style>\n",
              "    .colab-df-container {\n",
              "      display:flex;\n",
              "      flex-wrap:wrap;\n",
              "      gap: 12px;\n",
              "    }\n",
              "\n",
              "    .colab-df-convert {\n",
              "      background-color: #E8F0FE;\n",
              "      border: none;\n",
              "      border-radius: 50%;\n",
              "      cursor: pointer;\n",
              "      display: none;\n",
              "      fill: #1967D2;\n",
              "      height: 32px;\n",
              "      padding: 0 0 0 0;\n",
              "      width: 32px;\n",
              "    }\n",
              "\n",
              "    .colab-df-convert:hover {\n",
              "      background-color: #E2EBFA;\n",
              "      box-shadow: 0px 1px 2px rgba(60, 64, 67, 0.3), 0px 1px 3px 1px rgba(60, 64, 67, 0.15);\n",
              "      fill: #174EA6;\n",
              "    }\n",
              "\n",
              "    [theme=dark] .colab-df-convert {\n",
              "      background-color: #3B4455;\n",
              "      fill: #D2E3FC;\n",
              "    }\n",
              "\n",
              "    [theme=dark] .colab-df-convert:hover {\n",
              "      background-color: #434B5C;\n",
              "      box-shadow: 0px 1px 3px 1px rgba(0, 0, 0, 0.15);\n",
              "      filter: drop-shadow(0px 1px 2px rgba(0, 0, 0, 0.3));\n",
              "      fill: #FFFFFF;\n",
              "    }\n",
              "  </style>\n",
              "\n",
              "      <script>\n",
              "        const buttonEl =\n",
              "          document.querySelector('#df-e4efc93a-4395-4d1f-afc4-724c624276f3 button.colab-df-convert');\n",
              "        buttonEl.style.display =\n",
              "          google.colab.kernel.accessAllowed ? 'block' : 'none';\n",
              "\n",
              "        async function convertToInteractive(key) {\n",
              "          const element = document.querySelector('#df-e4efc93a-4395-4d1f-afc4-724c624276f3');\n",
              "          const dataTable =\n",
              "            await google.colab.kernel.invokeFunction('convertToInteractive',\n",
              "                                                     [key], {});\n",
              "          if (!dataTable) return;\n",
              "\n",
              "          const docLinkHtml = 'Like what you see? Visit the ' +\n",
              "            '<a target=\"_blank\" href=https://colab.research.google.com/notebooks/data_table.ipynb>data table notebook</a>'\n",
              "            + ' to learn more about interactive tables.';\n",
              "          element.innerHTML = '';\n",
              "          dataTable['output_type'] = 'display_data';\n",
              "          await google.colab.output.renderOutput(dataTable, element);\n",
              "          const docLink = document.createElement('div');\n",
              "          docLink.innerHTML = docLinkHtml;\n",
              "          element.appendChild(docLink);\n",
              "        }\n",
              "      </script>\n",
              "    </div>\n",
              "  </div>\n",
              "  "
            ]
          },
          "metadata": {},
          "execution_count": 188
        }
      ]
    },
    {
      "cell_type": "markdown",
      "source": [
        "we need to find theoretical frequencies for pearson's criteria "
      ],
      "metadata": {
        "id": "yr0GVrujBhfz"
      }
    },
    {
      "cell_type": "markdown",
      "source": [
        "At first, we need to correct data frame:"
      ],
      "metadata": {
        "id": "EpnlO6R5J2mv"
      }
    },
    {
      "cell_type": "code",
      "source": [
        "X = []\n",
        "frequencies = []\n",
        "for i in range(len(freq_df)-1):\n",
        "  if(freq_df[\"Frequency of the interval, n_i\"][i] < 5):\n",
        "    freq_df[\"Left bound\"][i+1] = freq_df[\"Left bound\"][i]\n",
        "    freq_df[\"Frequency of the interval, n_i\"][i+1] += freq_df[\"Frequency of the interval, n_i\"][i]\n",
        "  else:\n",
        "    X.append(freq_df[\"Left bound\"][i])\n",
        "    frequencies.append(freq_df[\"Frequency of the interval, n_i\"][i])\n",
        "if(freq_df[\"Frequency of the interval, n_i\"][len(freq_df)-1] < 5):\n",
        "  frequencies.pop()\n",
        "  freq_df[\"Frequency of the interval, n_i\"][len(freq_df)-2] += freq_df[\"Frequency of the interval, n_i\"][len(freq_df)-1]\n",
        "  freq_df[\"Right bound\"][len(freq_df)-2] += freq_df[\"Right bound\"][len(freq_df)-1]\n",
        "  X.append(freq_df[\"Right bound\"][len(freq_df)-1])\n",
        "  frequencies.append(freq_df[\"Frequency of the interval, n_i\"][len(freq_df)-2])\n",
        "else:\n",
        "  X.append(freq_df[\"Left bound\"][len(freq_df)-1])\n",
        "  X.append(freq_df[\"Right bound\"][len(freq_df)-1])\n",
        "  frequencies.append(freq_df[\"Frequency of the interval, n_i\"][len(freq_df)-1])"
      ],
      "metadata": {
        "id": "h_dqxb2wJ7SX"
      },
      "execution_count": null,
      "outputs": []
    },
    {
      "cell_type": "code",
      "source": [
        "xz_df = pd.DataFrame(columns=[\"x_i\", \"x_{i+1}\", \"ni\", \"x_i - x_mean\", \"x_{i+1} + x_mean\", \"z_i = (x_i - x_mean)/sigma\", \"z_{i+1} = (x_{i+1} - x_mean)/sigma\"])\n",
        "for i in range(1, len(X)):\n",
        "  left_bound = X[i-1]\n",
        "  right_bound = X[i]\n",
        "  ni = frequencies[i-1]\n",
        "  delta1 = X[i-1] - x_mean\n",
        "  delta2 = X[i] - x_mean\n",
        "  zi = delta1/x_std\n",
        "  zipp = delta2/x_std\n",
        "  new_line = [left_bound, right_bound, ni, delta1, delta2, zi, zipp]\n",
        "  xz_df.loc[len(xz_df)] = new_line\n",
        "xz_df"
      ],
      "metadata": {
        "colab": {
          "base_uri": "https://localhost:8080/",
          "height": 328
        },
        "id": "zsdPbgjSB0c7",
        "outputId": "c64a1997-2ad5-49a1-d5d2-8a3bfe474273"
      },
      "execution_count": null,
      "outputs": [
        {
          "output_type": "execute_result",
          "data": {
            "text/plain": [
              "    x_i  x_{i+1}    ni  x_i - x_mean  x_{i+1} + x_mean  \\\n",
              "0   0.2      1.5  10.0        -6.006            -4.706   \n",
              "1   1.5      2.8   9.0        -4.706            -3.406   \n",
              "2   2.8      4.1   8.0        -3.406            -2.106   \n",
              "3   4.1      5.4  14.0        -2.106            -0.806   \n",
              "4   5.4      6.7  14.0        -0.806             0.494   \n",
              "5   6.7      8.0  13.0         0.494             1.794   \n",
              "6   8.0      9.3  11.0         1.794             3.094   \n",
              "7   9.3     10.6  10.0         3.094             4.394   \n",
              "8  10.6     11.9  11.0         4.394             5.694   \n",
              "\n",
              "   z_i = (x_i - x_mean)/sigma  z_{i+1} = (x_{i+1} - x_mean)/sigma  \n",
              "0                   -1.872795                           -1.467428  \n",
              "1                   -1.467428                           -1.062061  \n",
              "2                   -1.062061                           -0.656694  \n",
              "3                   -0.656694                           -0.251327  \n",
              "4                   -0.251327                            0.154039  \n",
              "5                    0.154039                            0.559406  \n",
              "6                    0.559406                            0.964773  \n",
              "7                    0.964773                            1.370140  \n",
              "8                    1.370140                            1.775507  "
            ],
            "text/html": [
              "\n",
              "  <div id=\"df-b6577fe6-48bb-495c-8ccf-1084ce779f68\">\n",
              "    <div class=\"colab-df-container\">\n",
              "      <div>\n",
              "<style scoped>\n",
              "    .dataframe tbody tr th:only-of-type {\n",
              "        vertical-align: middle;\n",
              "    }\n",
              "\n",
              "    .dataframe tbody tr th {\n",
              "        vertical-align: top;\n",
              "    }\n",
              "\n",
              "    .dataframe thead th {\n",
              "        text-align: right;\n",
              "    }\n",
              "</style>\n",
              "<table border=\"1\" class=\"dataframe\">\n",
              "  <thead>\n",
              "    <tr style=\"text-align: right;\">\n",
              "      <th></th>\n",
              "      <th>x_i</th>\n",
              "      <th>x_{i+1}</th>\n",
              "      <th>ni</th>\n",
              "      <th>x_i - x_mean</th>\n",
              "      <th>x_{i+1} + x_mean</th>\n",
              "      <th>z_i = (x_i - x_mean)/sigma</th>\n",
              "      <th>z_{i+1} = (x_{i+1} - x_mean)/sigma</th>\n",
              "    </tr>\n",
              "  </thead>\n",
              "  <tbody>\n",
              "    <tr>\n",
              "      <th>0</th>\n",
              "      <td>0.2</td>\n",
              "      <td>1.5</td>\n",
              "      <td>10.0</td>\n",
              "      <td>-6.006</td>\n",
              "      <td>-4.706</td>\n",
              "      <td>-1.872795</td>\n",
              "      <td>-1.467428</td>\n",
              "    </tr>\n",
              "    <tr>\n",
              "      <th>1</th>\n",
              "      <td>1.5</td>\n",
              "      <td>2.8</td>\n",
              "      <td>9.0</td>\n",
              "      <td>-4.706</td>\n",
              "      <td>-3.406</td>\n",
              "      <td>-1.467428</td>\n",
              "      <td>-1.062061</td>\n",
              "    </tr>\n",
              "    <tr>\n",
              "      <th>2</th>\n",
              "      <td>2.8</td>\n",
              "      <td>4.1</td>\n",
              "      <td>8.0</td>\n",
              "      <td>-3.406</td>\n",
              "      <td>-2.106</td>\n",
              "      <td>-1.062061</td>\n",
              "      <td>-0.656694</td>\n",
              "    </tr>\n",
              "    <tr>\n",
              "      <th>3</th>\n",
              "      <td>4.1</td>\n",
              "      <td>5.4</td>\n",
              "      <td>14.0</td>\n",
              "      <td>-2.106</td>\n",
              "      <td>-0.806</td>\n",
              "      <td>-0.656694</td>\n",
              "      <td>-0.251327</td>\n",
              "    </tr>\n",
              "    <tr>\n",
              "      <th>4</th>\n",
              "      <td>5.4</td>\n",
              "      <td>6.7</td>\n",
              "      <td>14.0</td>\n",
              "      <td>-0.806</td>\n",
              "      <td>0.494</td>\n",
              "      <td>-0.251327</td>\n",
              "      <td>0.154039</td>\n",
              "    </tr>\n",
              "    <tr>\n",
              "      <th>5</th>\n",
              "      <td>6.7</td>\n",
              "      <td>8.0</td>\n",
              "      <td>13.0</td>\n",
              "      <td>0.494</td>\n",
              "      <td>1.794</td>\n",
              "      <td>0.154039</td>\n",
              "      <td>0.559406</td>\n",
              "    </tr>\n",
              "    <tr>\n",
              "      <th>6</th>\n",
              "      <td>8.0</td>\n",
              "      <td>9.3</td>\n",
              "      <td>11.0</td>\n",
              "      <td>1.794</td>\n",
              "      <td>3.094</td>\n",
              "      <td>0.559406</td>\n",
              "      <td>0.964773</td>\n",
              "    </tr>\n",
              "    <tr>\n",
              "      <th>7</th>\n",
              "      <td>9.3</td>\n",
              "      <td>10.6</td>\n",
              "      <td>10.0</td>\n",
              "      <td>3.094</td>\n",
              "      <td>4.394</td>\n",
              "      <td>0.964773</td>\n",
              "      <td>1.370140</td>\n",
              "    </tr>\n",
              "    <tr>\n",
              "      <th>8</th>\n",
              "      <td>10.6</td>\n",
              "      <td>11.9</td>\n",
              "      <td>11.0</td>\n",
              "      <td>4.394</td>\n",
              "      <td>5.694</td>\n",
              "      <td>1.370140</td>\n",
              "      <td>1.775507</td>\n",
              "    </tr>\n",
              "  </tbody>\n",
              "</table>\n",
              "</div>\n",
              "      <button class=\"colab-df-convert\" onclick=\"convertToInteractive('df-b6577fe6-48bb-495c-8ccf-1084ce779f68')\"\n",
              "              title=\"Convert this dataframe to an interactive table.\"\n",
              "              style=\"display:none;\">\n",
              "        \n",
              "  <svg xmlns=\"http://www.w3.org/2000/svg\" height=\"24px\"viewBox=\"0 0 24 24\"\n",
              "       width=\"24px\">\n",
              "    <path d=\"M0 0h24v24H0V0z\" fill=\"none\"/>\n",
              "    <path d=\"M18.56 5.44l.94 2.06.94-2.06 2.06-.94-2.06-.94-.94-2.06-.94 2.06-2.06.94zm-11 1L8.5 8.5l.94-2.06 2.06-.94-2.06-.94L8.5 2.5l-.94 2.06-2.06.94zm10 10l.94 2.06.94-2.06 2.06-.94-2.06-.94-.94-2.06-.94 2.06-2.06.94z\"/><path d=\"M17.41 7.96l-1.37-1.37c-.4-.4-.92-.59-1.43-.59-.52 0-1.04.2-1.43.59L10.3 9.45l-7.72 7.72c-.78.78-.78 2.05 0 2.83L4 21.41c.39.39.9.59 1.41.59.51 0 1.02-.2 1.41-.59l7.78-7.78 2.81-2.81c.8-.78.8-2.07 0-2.86zM5.41 20L4 18.59l7.72-7.72 1.47 1.35L5.41 20z\"/>\n",
              "  </svg>\n",
              "      </button>\n",
              "      \n",
              "  <style>\n",
              "    .colab-df-container {\n",
              "      display:flex;\n",
              "      flex-wrap:wrap;\n",
              "      gap: 12px;\n",
              "    }\n",
              "\n",
              "    .colab-df-convert {\n",
              "      background-color: #E8F0FE;\n",
              "      border: none;\n",
              "      border-radius: 50%;\n",
              "      cursor: pointer;\n",
              "      display: none;\n",
              "      fill: #1967D2;\n",
              "      height: 32px;\n",
              "      padding: 0 0 0 0;\n",
              "      width: 32px;\n",
              "    }\n",
              "\n",
              "    .colab-df-convert:hover {\n",
              "      background-color: #E2EBFA;\n",
              "      box-shadow: 0px 1px 2px rgba(60, 64, 67, 0.3), 0px 1px 3px 1px rgba(60, 64, 67, 0.15);\n",
              "      fill: #174EA6;\n",
              "    }\n",
              "\n",
              "    [theme=dark] .colab-df-convert {\n",
              "      background-color: #3B4455;\n",
              "      fill: #D2E3FC;\n",
              "    }\n",
              "\n",
              "    [theme=dark] .colab-df-convert:hover {\n",
              "      background-color: #434B5C;\n",
              "      box-shadow: 0px 1px 3px 1px rgba(0, 0, 0, 0.15);\n",
              "      filter: drop-shadow(0px 1px 2px rgba(0, 0, 0, 0.3));\n",
              "      fill: #FFFFFF;\n",
              "    }\n",
              "  </style>\n",
              "\n",
              "      <script>\n",
              "        const buttonEl =\n",
              "          document.querySelector('#df-b6577fe6-48bb-495c-8ccf-1084ce779f68 button.colab-df-convert');\n",
              "        buttonEl.style.display =\n",
              "          google.colab.kernel.accessAllowed ? 'block' : 'none';\n",
              "\n",
              "        async function convertToInteractive(key) {\n",
              "          const element = document.querySelector('#df-b6577fe6-48bb-495c-8ccf-1084ce779f68');\n",
              "          const dataTable =\n",
              "            await google.colab.kernel.invokeFunction('convertToInteractive',\n",
              "                                                     [key], {});\n",
              "          if (!dataTable) return;\n",
              "\n",
              "          const docLinkHtml = 'Like what you see? Visit the ' +\n",
              "            '<a target=\"_blank\" href=https://colab.research.google.com/notebooks/data_table.ipynb>data table notebook</a>'\n",
              "            + ' to learn more about interactive tables.';\n",
              "          element.innerHTML = '';\n",
              "          dataTable['output_type'] = 'display_data';\n",
              "          await google.colab.output.renderOutput(dataTable, element);\n",
              "          const docLink = document.createElement('div');\n",
              "          docLink.innerHTML = docLinkHtml;\n",
              "          element.appendChild(docLink);\n",
              "        }\n",
              "      </script>\n",
              "    </div>\n",
              "  </div>\n",
              "  "
            ]
          },
          "metadata": {},
          "execution_count": 190
        }
      ]
    },
    {
      "cell_type": "code",
      "source": [
        "import math\n",
        "from scipy.integrate import quad\n",
        "def under_integral(z):\n",
        "  return math.e**(-z*z/2)\n",
        "\n",
        "def Ф(x):\n",
        "  return 1/(math.sqrt(2*math.pi)) * quad(under_integral, 0, x)[0]\n",
        "  "
      ],
      "metadata": {
        "id": "SJIffv-gTWYy"
      },
      "execution_count": null,
      "outputs": []
    },
    {
      "cell_type": "code",
      "source": [
        "Z = list(xz_df[\"z_i = (x_i - x_mean)/sigma\"])\n",
        "Z.append(xz_df[\"z_{i+1} = (x_{i+1} - x_mean)/sigma\"][len(xz_df)-1])\n",
        "print(*Z)\n",
        "z_df = pd.DataFrame(columns=[\"z_i\", \"z_{i+1}\", \"Ф(zi)\", \"Ф(z_{i+1})\", \"P_i = Ф(z_{i+1}) - Ф(z_i)\", \"n'_i = 100P_i\"])\n",
        "for i in range(1, len(Z)):\n",
        "  left_z = Z[i-1]\n",
        "  right_z = Z[i]  \n",
        "  if(left_z < 0):\n",
        "    f_xi = -Ф(-left_z)\n",
        "  else:\n",
        "    f_xi = Ф(left_z)\n",
        "  if(right_z < 0):\n",
        "    f_xipp = -Ф(-right_z)\n",
        "  else:  \n",
        "    f_xipp = Ф(right_z)\n",
        "  \n",
        "  if (i==1):\n",
        "    f_xi = -0.5\n",
        "  if (i==len(Z)-1):\n",
        "    f_xipp = 0.5\n",
        "  pi = f_xipp - f_xi\n",
        "  ni = 100 * pi\n",
        "  new_line = [left_z, right_z, f_xi, f_xipp, pi, ni]\n",
        "  z_df.loc[len(z_df)] = new_line\n",
        "z_df"
      ],
      "metadata": {
        "id": "QwWluWaaD4QH",
        "colab": {
          "base_uri": "https://localhost:8080/",
          "height": 365
        },
        "outputId": "9e16b998-1e4c-45b0-8907-ad6fbcff9714"
      },
      "execution_count": null,
      "outputs": [
        {
          "output_type": "stream",
          "name": "stdout",
          "text": [
            "-1.8727951411177335 -1.4674282274558863 -1.0620613137940393 -0.6566944001321923 -0.2513274864703452 0.15403942719150182 0.5594063408533488 0.9647732545151959 1.3701401681770433 1.7755070818388905\n"
          ]
        },
        {
          "output_type": "execute_result",
          "data": {
            "text/plain": [
              "        z_i   z_{i+1}     Ф(zi)  Ф(z_{i+1})  P_i = Ф(z_{i+1}) - Ф(z_i)  \\\n",
              "0 -1.872795 -1.467428 -0.500000   -0.428870                   0.071130   \n",
              "1 -1.467428 -1.062061 -0.428870   -0.355896                   0.072974   \n",
              "2 -1.062061 -0.656694 -0.355896   -0.244311                   0.111585   \n",
              "3 -0.656694 -0.251327 -0.244311   -0.099220                   0.145092   \n",
              "4 -0.251327  0.154039 -0.099220    0.061211                   0.160430   \n",
              "5  0.154039  0.559406  0.061211    0.212058                   0.150847   \n",
              "6  0.559406  0.964773  0.212058    0.332671                   0.120613   \n",
              "7  0.964773  1.370140  0.332671    0.414678                   0.082008   \n",
              "8  1.370140  1.775507  0.414678    0.500000                   0.085322   \n",
              "\n",
              "   n'_i = 100P_i  \n",
              "0       7.112980  \n",
              "1       7.297413  \n",
              "2      11.158479  \n",
              "3      14.509175  \n",
              "4      16.043021  \n",
              "5      15.084711  \n",
              "6      12.061302  \n",
              "7       8.200762  \n",
              "8       8.532158  "
            ],
            "text/html": [
              "\n",
              "  <div id=\"df-c901190b-248a-4cf2-8636-c549d84caa29\">\n",
              "    <div class=\"colab-df-container\">\n",
              "      <div>\n",
              "<style scoped>\n",
              "    .dataframe tbody tr th:only-of-type {\n",
              "        vertical-align: middle;\n",
              "    }\n",
              "\n",
              "    .dataframe tbody tr th {\n",
              "        vertical-align: top;\n",
              "    }\n",
              "\n",
              "    .dataframe thead th {\n",
              "        text-align: right;\n",
              "    }\n",
              "</style>\n",
              "<table border=\"1\" class=\"dataframe\">\n",
              "  <thead>\n",
              "    <tr style=\"text-align: right;\">\n",
              "      <th></th>\n",
              "      <th>z_i</th>\n",
              "      <th>z_{i+1}</th>\n",
              "      <th>Ф(zi)</th>\n",
              "      <th>Ф(z_{i+1})</th>\n",
              "      <th>P_i = Ф(z_{i+1}) - Ф(z_i)</th>\n",
              "      <th>n'_i = 100P_i</th>\n",
              "    </tr>\n",
              "  </thead>\n",
              "  <tbody>\n",
              "    <tr>\n",
              "      <th>0</th>\n",
              "      <td>-1.872795</td>\n",
              "      <td>-1.467428</td>\n",
              "      <td>-0.500000</td>\n",
              "      <td>-0.428870</td>\n",
              "      <td>0.071130</td>\n",
              "      <td>7.112980</td>\n",
              "    </tr>\n",
              "    <tr>\n",
              "      <th>1</th>\n",
              "      <td>-1.467428</td>\n",
              "      <td>-1.062061</td>\n",
              "      <td>-0.428870</td>\n",
              "      <td>-0.355896</td>\n",
              "      <td>0.072974</td>\n",
              "      <td>7.297413</td>\n",
              "    </tr>\n",
              "    <tr>\n",
              "      <th>2</th>\n",
              "      <td>-1.062061</td>\n",
              "      <td>-0.656694</td>\n",
              "      <td>-0.355896</td>\n",
              "      <td>-0.244311</td>\n",
              "      <td>0.111585</td>\n",
              "      <td>11.158479</td>\n",
              "    </tr>\n",
              "    <tr>\n",
              "      <th>3</th>\n",
              "      <td>-0.656694</td>\n",
              "      <td>-0.251327</td>\n",
              "      <td>-0.244311</td>\n",
              "      <td>-0.099220</td>\n",
              "      <td>0.145092</td>\n",
              "      <td>14.509175</td>\n",
              "    </tr>\n",
              "    <tr>\n",
              "      <th>4</th>\n",
              "      <td>-0.251327</td>\n",
              "      <td>0.154039</td>\n",
              "      <td>-0.099220</td>\n",
              "      <td>0.061211</td>\n",
              "      <td>0.160430</td>\n",
              "      <td>16.043021</td>\n",
              "    </tr>\n",
              "    <tr>\n",
              "      <th>5</th>\n",
              "      <td>0.154039</td>\n",
              "      <td>0.559406</td>\n",
              "      <td>0.061211</td>\n",
              "      <td>0.212058</td>\n",
              "      <td>0.150847</td>\n",
              "      <td>15.084711</td>\n",
              "    </tr>\n",
              "    <tr>\n",
              "      <th>6</th>\n",
              "      <td>0.559406</td>\n",
              "      <td>0.964773</td>\n",
              "      <td>0.212058</td>\n",
              "      <td>0.332671</td>\n",
              "      <td>0.120613</td>\n",
              "      <td>12.061302</td>\n",
              "    </tr>\n",
              "    <tr>\n",
              "      <th>7</th>\n",
              "      <td>0.964773</td>\n",
              "      <td>1.370140</td>\n",
              "      <td>0.332671</td>\n",
              "      <td>0.414678</td>\n",
              "      <td>0.082008</td>\n",
              "      <td>8.200762</td>\n",
              "    </tr>\n",
              "    <tr>\n",
              "      <th>8</th>\n",
              "      <td>1.370140</td>\n",
              "      <td>1.775507</td>\n",
              "      <td>0.414678</td>\n",
              "      <td>0.500000</td>\n",
              "      <td>0.085322</td>\n",
              "      <td>8.532158</td>\n",
              "    </tr>\n",
              "  </tbody>\n",
              "</table>\n",
              "</div>\n",
              "      <button class=\"colab-df-convert\" onclick=\"convertToInteractive('df-c901190b-248a-4cf2-8636-c549d84caa29')\"\n",
              "              title=\"Convert this dataframe to an interactive table.\"\n",
              "              style=\"display:none;\">\n",
              "        \n",
              "  <svg xmlns=\"http://www.w3.org/2000/svg\" height=\"24px\"viewBox=\"0 0 24 24\"\n",
              "       width=\"24px\">\n",
              "    <path d=\"M0 0h24v24H0V0z\" fill=\"none\"/>\n",
              "    <path d=\"M18.56 5.44l.94 2.06.94-2.06 2.06-.94-2.06-.94-.94-2.06-.94 2.06-2.06.94zm-11 1L8.5 8.5l.94-2.06 2.06-.94-2.06-.94L8.5 2.5l-.94 2.06-2.06.94zm10 10l.94 2.06.94-2.06 2.06-.94-2.06-.94-.94-2.06-.94 2.06-2.06.94z\"/><path d=\"M17.41 7.96l-1.37-1.37c-.4-.4-.92-.59-1.43-.59-.52 0-1.04.2-1.43.59L10.3 9.45l-7.72 7.72c-.78.78-.78 2.05 0 2.83L4 21.41c.39.39.9.59 1.41.59.51 0 1.02-.2 1.41-.59l7.78-7.78 2.81-2.81c.8-.78.8-2.07 0-2.86zM5.41 20L4 18.59l7.72-7.72 1.47 1.35L5.41 20z\"/>\n",
              "  </svg>\n",
              "      </button>\n",
              "      \n",
              "  <style>\n",
              "    .colab-df-container {\n",
              "      display:flex;\n",
              "      flex-wrap:wrap;\n",
              "      gap: 12px;\n",
              "    }\n",
              "\n",
              "    .colab-df-convert {\n",
              "      background-color: #E8F0FE;\n",
              "      border: none;\n",
              "      border-radius: 50%;\n",
              "      cursor: pointer;\n",
              "      display: none;\n",
              "      fill: #1967D2;\n",
              "      height: 32px;\n",
              "      padding: 0 0 0 0;\n",
              "      width: 32px;\n",
              "    }\n",
              "\n",
              "    .colab-df-convert:hover {\n",
              "      background-color: #E2EBFA;\n",
              "      box-shadow: 0px 1px 2px rgba(60, 64, 67, 0.3), 0px 1px 3px 1px rgba(60, 64, 67, 0.15);\n",
              "      fill: #174EA6;\n",
              "    }\n",
              "\n",
              "    [theme=dark] .colab-df-convert {\n",
              "      background-color: #3B4455;\n",
              "      fill: #D2E3FC;\n",
              "    }\n",
              "\n",
              "    [theme=dark] .colab-df-convert:hover {\n",
              "      background-color: #434B5C;\n",
              "      box-shadow: 0px 1px 3px 1px rgba(0, 0, 0, 0.15);\n",
              "      filter: drop-shadow(0px 1px 2px rgba(0, 0, 0, 0.3));\n",
              "      fill: #FFFFFF;\n",
              "    }\n",
              "  </style>\n",
              "\n",
              "      <script>\n",
              "        const buttonEl =\n",
              "          document.querySelector('#df-c901190b-248a-4cf2-8636-c549d84caa29 button.colab-df-convert');\n",
              "        buttonEl.style.display =\n",
              "          google.colab.kernel.accessAllowed ? 'block' : 'none';\n",
              "\n",
              "        async function convertToInteractive(key) {\n",
              "          const element = document.querySelector('#df-c901190b-248a-4cf2-8636-c549d84caa29');\n",
              "          const dataTable =\n",
              "            await google.colab.kernel.invokeFunction('convertToInteractive',\n",
              "                                                     [key], {});\n",
              "          if (!dataTable) return;\n",
              "\n",
              "          const docLinkHtml = 'Like what you see? Visit the ' +\n",
              "            '<a target=\"_blank\" href=https://colab.research.google.com/notebooks/data_table.ipynb>data table notebook</a>'\n",
              "            + ' to learn more about interactive tables.';\n",
              "          element.innerHTML = '';\n",
              "          dataTable['output_type'] = 'display_data';\n",
              "          await google.colab.output.renderOutput(dataTable, element);\n",
              "          const docLink = document.createElement('div');\n",
              "          docLink.innerHTML = docLinkHtml;\n",
              "          element.appendChild(docLink);\n",
              "        }\n",
              "      </script>\n",
              "    </div>\n",
              "  </div>\n",
              "  "
            ]
          },
          "metadata": {},
          "execution_count": 192
        }
      ]
    },
    {
      "cell_type": "code",
      "source": [
        "sum_pi = sum(z_df[\"P_i = Ф(z_{i+1}) - Ф(z_i)\"])\n",
        "sum_pi"
      ],
      "metadata": {
        "colab": {
          "base_uri": "https://localhost:8080/"
        },
        "id": "nsyQX_NJZzhK",
        "outputId": "f1fad276-1f28-4197-f493-29419b9c3a96"
      },
      "execution_count": null,
      "outputs": [
        {
          "output_type": "execute_result",
          "data": {
            "text/plain": [
              "1.0"
            ]
          },
          "metadata": {},
          "execution_count": 193
        }
      ]
    },
    {
      "cell_type": "code",
      "source": [
        "summary = sum(z_df[\"n'_i = 100P_i\"])\n",
        "summary"
      ],
      "metadata": {
        "colab": {
          "base_uri": "https://localhost:8080/"
        },
        "id": "3g_ZOxiSRYam",
        "outputId": "c2ebf5b1-4803-4041-ae56-82fcbd7e1b28"
      },
      "execution_count": null,
      "outputs": [
        {
          "output_type": "execute_result",
          "data": {
            "text/plain": [
              "100.0"
            ]
          },
          "metadata": {},
          "execution_count": 194
        }
      ]
    },
    {
      "cell_type": "markdown",
      "source": [
        "Let us calculate the observed value of the Pearson criterion"
      ],
      "metadata": {
        "id": "3BunnMTlgiWF"
      }
    },
    {
      "cell_type": "code",
      "source": [
        "pearson_df = pd.DataFrame(columns=[\"ni\", \"n'i\", \"ni - n'i\", \"(ni - n'i)^2\", \"(ni - n'i)^2/(n'i)\", \"ni^2\", \"ni^2 / n'i\"])\n",
        "n_dot_array = list(z_df[\"n'_i = 100P_i\"])\n",
        "for i in range(len(frequencies)):\n",
        "  ni = frequencies[i]\n",
        "  n_dot_i = n_dot_array[i]\n",
        "  delta = ni - n_dot_i\n",
        "  delta2 = delta**2\n",
        "  delta_divide = delta2/n_dot_i\n",
        "  ni2 = ni**2\n",
        "  divide = ni**2/n_dot_i\n",
        "  new_line = [ni, n_dot_i, delta, delta2, delta_divide, ni2, divide]\n",
        "  pearson_df.loc[len(pearson_df)] = new_line \n",
        "pearson_df\n"
      ],
      "metadata": {
        "colab": {
          "base_uri": "https://localhost:8080/",
          "height": 328
        },
        "id": "rhcw5Nq1gizd",
        "outputId": "23396932-cacc-41a6-8ddb-10acca429dee"
      },
      "execution_count": null,
      "outputs": [
        {
          "output_type": "execute_result",
          "data": {
            "text/plain": [
              "     ni        n'i  ni - n'i  (ni - n'i)^2  (ni - n'i)^2/(n'i)   ni^2  \\\n",
              "0  10.0   7.112980  2.887020      8.334884            1.171785  100.0   \n",
              "1   9.0   7.297413  1.702587      2.898804            0.397237   81.0   \n",
              "2   8.0  11.158479 -3.158479      9.975991            0.894028   64.0   \n",
              "3  14.0  14.509175 -0.509175      0.259259            0.017869  196.0   \n",
              "4  14.0  16.043021 -2.043021      4.173936            0.260171  196.0   \n",
              "5  13.0  15.084711 -2.084711      4.346019            0.288108  169.0   \n",
              "6  11.0  12.061302 -1.061302      1.126362            0.093386  121.0   \n",
              "7  10.0   8.200762  1.799238      3.237257            0.394751  100.0   \n",
              "8  11.0   8.532158  2.467842      6.090246            0.713799  121.0   \n",
              "\n",
              "   ni^2 / n'i  \n",
              "0   14.058805  \n",
              "1   11.099825  \n",
              "2    5.735549  \n",
              "3   13.508694  \n",
              "4   12.217150  \n",
              "5   11.203397  \n",
              "6   10.032084  \n",
              "7   12.193989  \n",
              "8   14.181642  "
            ],
            "text/html": [
              "\n",
              "  <div id=\"df-a564b1c3-284c-406d-b4ca-abcbda2ad048\">\n",
              "    <div class=\"colab-df-container\">\n",
              "      <div>\n",
              "<style scoped>\n",
              "    .dataframe tbody tr th:only-of-type {\n",
              "        vertical-align: middle;\n",
              "    }\n",
              "\n",
              "    .dataframe tbody tr th {\n",
              "        vertical-align: top;\n",
              "    }\n",
              "\n",
              "    .dataframe thead th {\n",
              "        text-align: right;\n",
              "    }\n",
              "</style>\n",
              "<table border=\"1\" class=\"dataframe\">\n",
              "  <thead>\n",
              "    <tr style=\"text-align: right;\">\n",
              "      <th></th>\n",
              "      <th>ni</th>\n",
              "      <th>n'i</th>\n",
              "      <th>ni - n'i</th>\n",
              "      <th>(ni - n'i)^2</th>\n",
              "      <th>(ni - n'i)^2/(n'i)</th>\n",
              "      <th>ni^2</th>\n",
              "      <th>ni^2 / n'i</th>\n",
              "    </tr>\n",
              "  </thead>\n",
              "  <tbody>\n",
              "    <tr>\n",
              "      <th>0</th>\n",
              "      <td>10.0</td>\n",
              "      <td>7.112980</td>\n",
              "      <td>2.887020</td>\n",
              "      <td>8.334884</td>\n",
              "      <td>1.171785</td>\n",
              "      <td>100.0</td>\n",
              "      <td>14.058805</td>\n",
              "    </tr>\n",
              "    <tr>\n",
              "      <th>1</th>\n",
              "      <td>9.0</td>\n",
              "      <td>7.297413</td>\n",
              "      <td>1.702587</td>\n",
              "      <td>2.898804</td>\n",
              "      <td>0.397237</td>\n",
              "      <td>81.0</td>\n",
              "      <td>11.099825</td>\n",
              "    </tr>\n",
              "    <tr>\n",
              "      <th>2</th>\n",
              "      <td>8.0</td>\n",
              "      <td>11.158479</td>\n",
              "      <td>-3.158479</td>\n",
              "      <td>9.975991</td>\n",
              "      <td>0.894028</td>\n",
              "      <td>64.0</td>\n",
              "      <td>5.735549</td>\n",
              "    </tr>\n",
              "    <tr>\n",
              "      <th>3</th>\n",
              "      <td>14.0</td>\n",
              "      <td>14.509175</td>\n",
              "      <td>-0.509175</td>\n",
              "      <td>0.259259</td>\n",
              "      <td>0.017869</td>\n",
              "      <td>196.0</td>\n",
              "      <td>13.508694</td>\n",
              "    </tr>\n",
              "    <tr>\n",
              "      <th>4</th>\n",
              "      <td>14.0</td>\n",
              "      <td>16.043021</td>\n",
              "      <td>-2.043021</td>\n",
              "      <td>4.173936</td>\n",
              "      <td>0.260171</td>\n",
              "      <td>196.0</td>\n",
              "      <td>12.217150</td>\n",
              "    </tr>\n",
              "    <tr>\n",
              "      <th>5</th>\n",
              "      <td>13.0</td>\n",
              "      <td>15.084711</td>\n",
              "      <td>-2.084711</td>\n",
              "      <td>4.346019</td>\n",
              "      <td>0.288108</td>\n",
              "      <td>169.0</td>\n",
              "      <td>11.203397</td>\n",
              "    </tr>\n",
              "    <tr>\n",
              "      <th>6</th>\n",
              "      <td>11.0</td>\n",
              "      <td>12.061302</td>\n",
              "      <td>-1.061302</td>\n",
              "      <td>1.126362</td>\n",
              "      <td>0.093386</td>\n",
              "      <td>121.0</td>\n",
              "      <td>10.032084</td>\n",
              "    </tr>\n",
              "    <tr>\n",
              "      <th>7</th>\n",
              "      <td>10.0</td>\n",
              "      <td>8.200762</td>\n",
              "      <td>1.799238</td>\n",
              "      <td>3.237257</td>\n",
              "      <td>0.394751</td>\n",
              "      <td>100.0</td>\n",
              "      <td>12.193989</td>\n",
              "    </tr>\n",
              "    <tr>\n",
              "      <th>8</th>\n",
              "      <td>11.0</td>\n",
              "      <td>8.532158</td>\n",
              "      <td>2.467842</td>\n",
              "      <td>6.090246</td>\n",
              "      <td>0.713799</td>\n",
              "      <td>121.0</td>\n",
              "      <td>14.181642</td>\n",
              "    </tr>\n",
              "  </tbody>\n",
              "</table>\n",
              "</div>\n",
              "      <button class=\"colab-df-convert\" onclick=\"convertToInteractive('df-a564b1c3-284c-406d-b4ca-abcbda2ad048')\"\n",
              "              title=\"Convert this dataframe to an interactive table.\"\n",
              "              style=\"display:none;\">\n",
              "        \n",
              "  <svg xmlns=\"http://www.w3.org/2000/svg\" height=\"24px\"viewBox=\"0 0 24 24\"\n",
              "       width=\"24px\">\n",
              "    <path d=\"M0 0h24v24H0V0z\" fill=\"none\"/>\n",
              "    <path d=\"M18.56 5.44l.94 2.06.94-2.06 2.06-.94-2.06-.94-.94-2.06-.94 2.06-2.06.94zm-11 1L8.5 8.5l.94-2.06 2.06-.94-2.06-.94L8.5 2.5l-.94 2.06-2.06.94zm10 10l.94 2.06.94-2.06 2.06-.94-2.06-.94-.94-2.06-.94 2.06-2.06.94z\"/><path d=\"M17.41 7.96l-1.37-1.37c-.4-.4-.92-.59-1.43-.59-.52 0-1.04.2-1.43.59L10.3 9.45l-7.72 7.72c-.78.78-.78 2.05 0 2.83L4 21.41c.39.39.9.59 1.41.59.51 0 1.02-.2 1.41-.59l7.78-7.78 2.81-2.81c.8-.78.8-2.07 0-2.86zM5.41 20L4 18.59l7.72-7.72 1.47 1.35L5.41 20z\"/>\n",
              "  </svg>\n",
              "      </button>\n",
              "      \n",
              "  <style>\n",
              "    .colab-df-container {\n",
              "      display:flex;\n",
              "      flex-wrap:wrap;\n",
              "      gap: 12px;\n",
              "    }\n",
              "\n",
              "    .colab-df-convert {\n",
              "      background-color: #E8F0FE;\n",
              "      border: none;\n",
              "      border-radius: 50%;\n",
              "      cursor: pointer;\n",
              "      display: none;\n",
              "      fill: #1967D2;\n",
              "      height: 32px;\n",
              "      padding: 0 0 0 0;\n",
              "      width: 32px;\n",
              "    }\n",
              "\n",
              "    .colab-df-convert:hover {\n",
              "      background-color: #E2EBFA;\n",
              "      box-shadow: 0px 1px 2px rgba(60, 64, 67, 0.3), 0px 1px 3px 1px rgba(60, 64, 67, 0.15);\n",
              "      fill: #174EA6;\n",
              "    }\n",
              "\n",
              "    [theme=dark] .colab-df-convert {\n",
              "      background-color: #3B4455;\n",
              "      fill: #D2E3FC;\n",
              "    }\n",
              "\n",
              "    [theme=dark] .colab-df-convert:hover {\n",
              "      background-color: #434B5C;\n",
              "      box-shadow: 0px 1px 3px 1px rgba(0, 0, 0, 0.15);\n",
              "      filter: drop-shadow(0px 1px 2px rgba(0, 0, 0, 0.3));\n",
              "      fill: #FFFFFF;\n",
              "    }\n",
              "  </style>\n",
              "\n",
              "      <script>\n",
              "        const buttonEl =\n",
              "          document.querySelector('#df-a564b1c3-284c-406d-b4ca-abcbda2ad048 button.colab-df-convert');\n",
              "        buttonEl.style.display =\n",
              "          google.colab.kernel.accessAllowed ? 'block' : 'none';\n",
              "\n",
              "        async function convertToInteractive(key) {\n",
              "          const element = document.querySelector('#df-a564b1c3-284c-406d-b4ca-abcbda2ad048');\n",
              "          const dataTable =\n",
              "            await google.colab.kernel.invokeFunction('convertToInteractive',\n",
              "                                                     [key], {});\n",
              "          if (!dataTable) return;\n",
              "\n",
              "          const docLinkHtml = 'Like what you see? Visit the ' +\n",
              "            '<a target=\"_blank\" href=https://colab.research.google.com/notebooks/data_table.ipynb>data table notebook</a>'\n",
              "            + ' to learn more about interactive tables.';\n",
              "          element.innerHTML = '';\n",
              "          dataTable['output_type'] = 'display_data';\n",
              "          await google.colab.output.renderOutput(dataTable, element);\n",
              "          const docLink = document.createElement('div');\n",
              "          docLink.innerHTML = docLinkHtml;\n",
              "          element.appendChild(docLink);\n",
              "        }\n",
              "      </script>\n",
              "    </div>\n",
              "  </div>\n",
              "  "
            ]
          },
          "metadata": {},
          "execution_count": 195
        }
      ]
    },
    {
      "cell_type": "code",
      "source": [
        "summary_table = pd.DataFrame(columns=[\"Sum ni\", \"Sum n'i\", \"X2 = Sum (ni - n'i)^2/(n'i)\", \"Sum ni^2 / n'i\"])\n",
        "liner = [sum(pearson_df[\"ni\"]), sum(pearson_df[\"n'i\"]), sum(pearson_df[\"(ni - n'i)^2/(n'i)\"]), sum(pearson_df[\"ni^2 / n'i\"])]\n",
        "summary_table.loc[len(summary_table)] = liner \n",
        "summary_table"
      ],
      "metadata": {
        "colab": {
          "base_uri": "https://localhost:8080/",
          "height": 80
        },
        "id": "v1QYs5W6i8Px",
        "outputId": "eff87ec0-6639-415f-ca7e-d413a808dccb"
      },
      "execution_count": null,
      "outputs": [
        {
          "output_type": "execute_result",
          "data": {
            "text/plain": [
              "   Sum ni  Sum n'i  X2 = Sum (ni - n'i)^2/(n'i)  Sum ni^2 / n'i\n",
              "0   100.0    100.0                     4.231134      104.231134"
            ],
            "text/html": [
              "\n",
              "  <div id=\"df-6469d64d-43d0-4977-8cf2-09cf2a7dbd0e\">\n",
              "    <div class=\"colab-df-container\">\n",
              "      <div>\n",
              "<style scoped>\n",
              "    .dataframe tbody tr th:only-of-type {\n",
              "        vertical-align: middle;\n",
              "    }\n",
              "\n",
              "    .dataframe tbody tr th {\n",
              "        vertical-align: top;\n",
              "    }\n",
              "\n",
              "    .dataframe thead th {\n",
              "        text-align: right;\n",
              "    }\n",
              "</style>\n",
              "<table border=\"1\" class=\"dataframe\">\n",
              "  <thead>\n",
              "    <tr style=\"text-align: right;\">\n",
              "      <th></th>\n",
              "      <th>Sum ni</th>\n",
              "      <th>Sum n'i</th>\n",
              "      <th>X2 = Sum (ni - n'i)^2/(n'i)</th>\n",
              "      <th>Sum ni^2 / n'i</th>\n",
              "    </tr>\n",
              "  </thead>\n",
              "  <tbody>\n",
              "    <tr>\n",
              "      <th>0</th>\n",
              "      <td>100.0</td>\n",
              "      <td>100.0</td>\n",
              "      <td>4.231134</td>\n",
              "      <td>104.231134</td>\n",
              "    </tr>\n",
              "  </tbody>\n",
              "</table>\n",
              "</div>\n",
              "      <button class=\"colab-df-convert\" onclick=\"convertToInteractive('df-6469d64d-43d0-4977-8cf2-09cf2a7dbd0e')\"\n",
              "              title=\"Convert this dataframe to an interactive table.\"\n",
              "              style=\"display:none;\">\n",
              "        \n",
              "  <svg xmlns=\"http://www.w3.org/2000/svg\" height=\"24px\"viewBox=\"0 0 24 24\"\n",
              "       width=\"24px\">\n",
              "    <path d=\"M0 0h24v24H0V0z\" fill=\"none\"/>\n",
              "    <path d=\"M18.56 5.44l.94 2.06.94-2.06 2.06-.94-2.06-.94-.94-2.06-.94 2.06-2.06.94zm-11 1L8.5 8.5l.94-2.06 2.06-.94-2.06-.94L8.5 2.5l-.94 2.06-2.06.94zm10 10l.94 2.06.94-2.06 2.06-.94-2.06-.94-.94-2.06-.94 2.06-2.06.94z\"/><path d=\"M17.41 7.96l-1.37-1.37c-.4-.4-.92-.59-1.43-.59-.52 0-1.04.2-1.43.59L10.3 9.45l-7.72 7.72c-.78.78-.78 2.05 0 2.83L4 21.41c.39.39.9.59 1.41.59.51 0 1.02-.2 1.41-.59l7.78-7.78 2.81-2.81c.8-.78.8-2.07 0-2.86zM5.41 20L4 18.59l7.72-7.72 1.47 1.35L5.41 20z\"/>\n",
              "  </svg>\n",
              "      </button>\n",
              "      \n",
              "  <style>\n",
              "    .colab-df-container {\n",
              "      display:flex;\n",
              "      flex-wrap:wrap;\n",
              "      gap: 12px;\n",
              "    }\n",
              "\n",
              "    .colab-df-convert {\n",
              "      background-color: #E8F0FE;\n",
              "      border: none;\n",
              "      border-radius: 50%;\n",
              "      cursor: pointer;\n",
              "      display: none;\n",
              "      fill: #1967D2;\n",
              "      height: 32px;\n",
              "      padding: 0 0 0 0;\n",
              "      width: 32px;\n",
              "    }\n",
              "\n",
              "    .colab-df-convert:hover {\n",
              "      background-color: #E2EBFA;\n",
              "      box-shadow: 0px 1px 2px rgba(60, 64, 67, 0.3), 0px 1px 3px 1px rgba(60, 64, 67, 0.15);\n",
              "      fill: #174EA6;\n",
              "    }\n",
              "\n",
              "    [theme=dark] .colab-df-convert {\n",
              "      background-color: #3B4455;\n",
              "      fill: #D2E3FC;\n",
              "    }\n",
              "\n",
              "    [theme=dark] .colab-df-convert:hover {\n",
              "      background-color: #434B5C;\n",
              "      box-shadow: 0px 1px 3px 1px rgba(0, 0, 0, 0.15);\n",
              "      filter: drop-shadow(0px 1px 2px rgba(0, 0, 0, 0.3));\n",
              "      fill: #FFFFFF;\n",
              "    }\n",
              "  </style>\n",
              "\n",
              "      <script>\n",
              "        const buttonEl =\n",
              "          document.querySelector('#df-6469d64d-43d0-4977-8cf2-09cf2a7dbd0e button.colab-df-convert');\n",
              "        buttonEl.style.display =\n",
              "          google.colab.kernel.accessAllowed ? 'block' : 'none';\n",
              "\n",
              "        async function convertToInteractive(key) {\n",
              "          const element = document.querySelector('#df-6469d64d-43d0-4977-8cf2-09cf2a7dbd0e');\n",
              "          const dataTable =\n",
              "            await google.colab.kernel.invokeFunction('convertToInteractive',\n",
              "                                                     [key], {});\n",
              "          if (!dataTable) return;\n",
              "\n",
              "          const docLinkHtml = 'Like what you see? Visit the ' +\n",
              "            '<a target=\"_blank\" href=https://colab.research.google.com/notebooks/data_table.ipynb>data table notebook</a>'\n",
              "            + ' to learn more about interactive tables.';\n",
              "          element.innerHTML = '';\n",
              "          dataTable['output_type'] = 'display_data';\n",
              "          await google.colab.output.renderOutput(dataTable, element);\n",
              "          const docLink = document.createElement('div');\n",
              "          docLink.innerHTML = docLinkHtml;\n",
              "          element.appendChild(docLink);\n",
              "        }\n",
              "      </script>\n",
              "    </div>\n",
              "  </div>\n",
              "  "
            ]
          },
          "metadata": {},
          "execution_count": 196
        }
      ]
    },
    {
      "cell_type": "markdown",
      "source": [
        "Control"
      ],
      "metadata": {
        "id": "coJrGnrEjpaa"
      }
    },
    {
      "cell_type": "code",
      "source": [
        "summary_table[\"Sum ni^2 / n'i\"][0] - len(array)"
      ],
      "metadata": {
        "colab": {
          "base_uri": "https://localhost:8080/"
        },
        "id": "Z2x30vWPjnCZ",
        "outputId": "fc4468ce-db33-4d7d-a025-230e20fe8506"
      },
      "execution_count": null,
      "outputs": [
        {
          "output_type": "execute_result",
          "data": {
            "text/plain": [
              "4.231134039994018"
            ]
          },
          "metadata": {},
          "execution_count": 197
        }
      ]
    },
    {
      "cell_type": "markdown",
      "source": [
        "Now we need to use table for X2cr."
      ],
      "metadata": {
        "id": "nRWlNsp9j21j"
      }
    },
    {
      "cell_type": "markdown",
      "source": [
        "k = l - 3 = 7 - 3 = 4 \n",
        "\n",
        "alpha = 0.01 \n",
        "\n",
        "X2 cr = 13.3\n",
        "\n",
        "now compare them!!!"
      ],
      "metadata": {
        "id": "4nwh_ov7kAUm"
      }
    },
    {
      "cell_type": "markdown",
      "source": [
        "change this to yours"
      ],
      "metadata": {
        "id": "EYEeeUp3lAOd"
      }
    },
    {
      "cell_type": "code",
      "source": [
        "ta = 1.984"
      ],
      "metadata": {
        "id": "iy0m8I1bkkKq"
      },
      "execution_count": null,
      "outputs": []
    },
    {
      "cell_type": "code",
      "source": [
        "left_bound = x_mean - fixed_variance(X)/math.sqrt(len(array)) * ta\n",
        "left_bound"
      ],
      "metadata": {
        "colab": {
          "base_uri": "https://localhost:8080/"
        },
        "id": "KQPKZiy1kaNs",
        "outputId": "b0aeea52-1f1c-40c3-948f-2d7f697e77ff"
      },
      "execution_count": null,
      "outputs": [
        {
          "output_type": "execute_result",
          "data": {
            "text/plain": [
              "4.144911780202022"
            ]
          },
          "metadata": {},
          "execution_count": 199
        }
      ]
    },
    {
      "cell_type": "code",
      "source": [
        "right_bound = x_mean + fixed_variance(X)/math.sqrt(len(array)) * ta\n",
        "right_bound"
      ],
      "metadata": {
        "colab": {
          "base_uri": "https://localhost:8080/"
        },
        "id": "J5-N-8tgkyu9",
        "outputId": "086fb785-8728-410b-a1c1-4c36632d0d5c"
      },
      "execution_count": null,
      "outputs": [
        {
          "output_type": "execute_result",
          "data": {
            "text/plain": [
              "8.267088219797976"
            ]
          },
          "metadata": {},
          "execution_count": 200
        }
      ]
    },
    {
      "cell_type": "markdown",
      "source": [
        "Confidence interval"
      ],
      "metadata": {
        "id": "0Zsk5wwZk-_U"
      }
    },
    {
      "cell_type": "markdown",
      "source": [
        "change this to yours"
      ],
      "metadata": {
        "id": "AqGdnofblIFk"
      }
    },
    {
      "cell_type": "code",
      "source": [
        "q = 0.143"
      ],
      "metadata": {
        "id": "CzxNKcgSlGYM"
      },
      "execution_count": null,
      "outputs": []
    },
    {
      "cell_type": "code",
      "source": [
        "left_bound = fixed_standard_deviation(X) * (1 - q)\n",
        "left_bound"
      ],
      "metadata": {
        "colab": {
          "base_uri": "https://localhost:8080/"
        },
        "id": "RLUXW1uQk_bL",
        "outputId": "ba435377-1d38-46f5-9332-85d7e34d2b67"
      },
      "execution_count": null,
      "outputs": [
        {
          "output_type": "execute_result",
          "data": {
            "text/plain": [
              "2.7622200831968757"
            ]
          },
          "metadata": {},
          "execution_count": 202
        }
      ]
    },
    {
      "cell_type": "code",
      "source": [
        "right_bound = fixed_standard_deviation(X) * (1 + q)\n",
        "right_bound"
      ],
      "metadata": {
        "colab": {
          "base_uri": "https://localhost:8080/"
        },
        "id": "5C4lN8TTlYJu",
        "outputId": "010bfa1f-c722-48ba-98d3-b14bd9a59ba0"
      },
      "execution_count": null,
      "outputs": [
        {
          "output_type": "execute_result",
          "data": {
            "text/plain": [
              "3.6840344866908157"
            ]
          },
          "metadata": {},
          "execution_count": 203
        }
      ]
    },
    {
      "cell_type": "markdown",
      "source": [
        "####*Task2*"
      ],
      "metadata": {
        "id": "NBg0Dh6iQgpp"
      }
    },
    {
      "cell_type": "code",
      "source": [
        "import pandas as pd \n",
        "import numpy as np"
      ],
      "metadata": {
        "id": "TJ6bXUfZ_luJ"
      },
      "execution_count": null,
      "outputs": []
    },
    {
      "cell_type": "code",
      "source": [
        "df = pd.read_csv(\"/content/train.csv\")\n",
        "upper_line = df.columns.values.tolist()[1:-1]\n",
        "print(*upper_line)\n",
        "df"
      ],
      "metadata": {
        "colab": {
          "base_uri": "https://localhost:8080/",
          "height": 283
        },
        "id": "qIkjse2LBm-c",
        "outputId": "a7772f8a-8964-43d6-f9ce-f6de3a849268"
      },
      "execution_count": null,
      "outputs": [
        {
          "output_type": "stream",
          "name": "stdout",
          "text": [
            "4.5 6.0 7.5 9.0 10.5 12.0 13.5 15.0\n"
          ]
        },
        {
          "output_type": "execute_result",
          "data": {
            "text/plain": [
              "   X\\Y 4.5 6.0 7.5 9.0 10.5 12.0 13.5 15.0   mx\n",
              "0   60   2   4   3  10    4    -    -    -   23\n",
              "1   90   -   -   6  14    5    -    -    -   25\n",
              "2  120   -   -   -   -   17    5    4    -   26\n",
              "3  150   -   -   -   -    -    8    3    2   13\n",
              "4  180   -   -   -   -    -    4    3    1    8\n",
              "5  210   -   -   -   -    -    2    1    2    5\n",
              "6   my   2   4   9  24   26   19   11    5  100"
            ],
            "text/html": [
              "\n",
              "  <div id=\"df-e397c16c-a1e7-47c0-94af-1b9d76f635da\">\n",
              "    <div class=\"colab-df-container\">\n",
              "      <div>\n",
              "<style scoped>\n",
              "    .dataframe tbody tr th:only-of-type {\n",
              "        vertical-align: middle;\n",
              "    }\n",
              "\n",
              "    .dataframe tbody tr th {\n",
              "        vertical-align: top;\n",
              "    }\n",
              "\n",
              "    .dataframe thead th {\n",
              "        text-align: right;\n",
              "    }\n",
              "</style>\n",
              "<table border=\"1\" class=\"dataframe\">\n",
              "  <thead>\n",
              "    <tr style=\"text-align: right;\">\n",
              "      <th></th>\n",
              "      <th>X\\Y</th>\n",
              "      <th>4.5</th>\n",
              "      <th>6.0</th>\n",
              "      <th>7.5</th>\n",
              "      <th>9.0</th>\n",
              "      <th>10.5</th>\n",
              "      <th>12.0</th>\n",
              "      <th>13.5</th>\n",
              "      <th>15.0</th>\n",
              "      <th>mx</th>\n",
              "    </tr>\n",
              "  </thead>\n",
              "  <tbody>\n",
              "    <tr>\n",
              "      <th>0</th>\n",
              "      <td>60</td>\n",
              "      <td>2</td>\n",
              "      <td>4</td>\n",
              "      <td>3</td>\n",
              "      <td>10</td>\n",
              "      <td>4</td>\n",
              "      <td>-</td>\n",
              "      <td>-</td>\n",
              "      <td>-</td>\n",
              "      <td>23</td>\n",
              "    </tr>\n",
              "    <tr>\n",
              "      <th>1</th>\n",
              "      <td>90</td>\n",
              "      <td>-</td>\n",
              "      <td>-</td>\n",
              "      <td>6</td>\n",
              "      <td>14</td>\n",
              "      <td>5</td>\n",
              "      <td>-</td>\n",
              "      <td>-</td>\n",
              "      <td>-</td>\n",
              "      <td>25</td>\n",
              "    </tr>\n",
              "    <tr>\n",
              "      <th>2</th>\n",
              "      <td>120</td>\n",
              "      <td>-</td>\n",
              "      <td>-</td>\n",
              "      <td>-</td>\n",
              "      <td>-</td>\n",
              "      <td>17</td>\n",
              "      <td>5</td>\n",
              "      <td>4</td>\n",
              "      <td>-</td>\n",
              "      <td>26</td>\n",
              "    </tr>\n",
              "    <tr>\n",
              "      <th>3</th>\n",
              "      <td>150</td>\n",
              "      <td>-</td>\n",
              "      <td>-</td>\n",
              "      <td>-</td>\n",
              "      <td>-</td>\n",
              "      <td>-</td>\n",
              "      <td>8</td>\n",
              "      <td>3</td>\n",
              "      <td>2</td>\n",
              "      <td>13</td>\n",
              "    </tr>\n",
              "    <tr>\n",
              "      <th>4</th>\n",
              "      <td>180</td>\n",
              "      <td>-</td>\n",
              "      <td>-</td>\n",
              "      <td>-</td>\n",
              "      <td>-</td>\n",
              "      <td>-</td>\n",
              "      <td>4</td>\n",
              "      <td>3</td>\n",
              "      <td>1</td>\n",
              "      <td>8</td>\n",
              "    </tr>\n",
              "    <tr>\n",
              "      <th>5</th>\n",
              "      <td>210</td>\n",
              "      <td>-</td>\n",
              "      <td>-</td>\n",
              "      <td>-</td>\n",
              "      <td>-</td>\n",
              "      <td>-</td>\n",
              "      <td>2</td>\n",
              "      <td>1</td>\n",
              "      <td>2</td>\n",
              "      <td>5</td>\n",
              "    </tr>\n",
              "    <tr>\n",
              "      <th>6</th>\n",
              "      <td>my</td>\n",
              "      <td>2</td>\n",
              "      <td>4</td>\n",
              "      <td>9</td>\n",
              "      <td>24</td>\n",
              "      <td>26</td>\n",
              "      <td>19</td>\n",
              "      <td>11</td>\n",
              "      <td>5</td>\n",
              "      <td>100</td>\n",
              "    </tr>\n",
              "  </tbody>\n",
              "</table>\n",
              "</div>\n",
              "      <button class=\"colab-df-convert\" onclick=\"convertToInteractive('df-e397c16c-a1e7-47c0-94af-1b9d76f635da')\"\n",
              "              title=\"Convert this dataframe to an interactive table.\"\n",
              "              style=\"display:none;\">\n",
              "        \n",
              "  <svg xmlns=\"http://www.w3.org/2000/svg\" height=\"24px\"viewBox=\"0 0 24 24\"\n",
              "       width=\"24px\">\n",
              "    <path d=\"M0 0h24v24H0V0z\" fill=\"none\"/>\n",
              "    <path d=\"M18.56 5.44l.94 2.06.94-2.06 2.06-.94-2.06-.94-.94-2.06-.94 2.06-2.06.94zm-11 1L8.5 8.5l.94-2.06 2.06-.94-2.06-.94L8.5 2.5l-.94 2.06-2.06.94zm10 10l.94 2.06.94-2.06 2.06-.94-2.06-.94-.94-2.06-.94 2.06-2.06.94z\"/><path d=\"M17.41 7.96l-1.37-1.37c-.4-.4-.92-.59-1.43-.59-.52 0-1.04.2-1.43.59L10.3 9.45l-7.72 7.72c-.78.78-.78 2.05 0 2.83L4 21.41c.39.39.9.59 1.41.59.51 0 1.02-.2 1.41-.59l7.78-7.78 2.81-2.81c.8-.78.8-2.07 0-2.86zM5.41 20L4 18.59l7.72-7.72 1.47 1.35L5.41 20z\"/>\n",
              "  </svg>\n",
              "      </button>\n",
              "      \n",
              "  <style>\n",
              "    .colab-df-container {\n",
              "      display:flex;\n",
              "      flex-wrap:wrap;\n",
              "      gap: 12px;\n",
              "    }\n",
              "\n",
              "    .colab-df-convert {\n",
              "      background-color: #E8F0FE;\n",
              "      border: none;\n",
              "      border-radius: 50%;\n",
              "      cursor: pointer;\n",
              "      display: none;\n",
              "      fill: #1967D2;\n",
              "      height: 32px;\n",
              "      padding: 0 0 0 0;\n",
              "      width: 32px;\n",
              "    }\n",
              "\n",
              "    .colab-df-convert:hover {\n",
              "      background-color: #E2EBFA;\n",
              "      box-shadow: 0px 1px 2px rgba(60, 64, 67, 0.3), 0px 1px 3px 1px rgba(60, 64, 67, 0.15);\n",
              "      fill: #174EA6;\n",
              "    }\n",
              "\n",
              "    [theme=dark] .colab-df-convert {\n",
              "      background-color: #3B4455;\n",
              "      fill: #D2E3FC;\n",
              "    }\n",
              "\n",
              "    [theme=dark] .colab-df-convert:hover {\n",
              "      background-color: #434B5C;\n",
              "      box-shadow: 0px 1px 3px 1px rgba(0, 0, 0, 0.15);\n",
              "      filter: drop-shadow(0px 1px 2px rgba(0, 0, 0, 0.3));\n",
              "      fill: #FFFFFF;\n",
              "    }\n",
              "  </style>\n",
              "\n",
              "      <script>\n",
              "        const buttonEl =\n",
              "          document.querySelector('#df-e397c16c-a1e7-47c0-94af-1b9d76f635da button.colab-df-convert');\n",
              "        buttonEl.style.display =\n",
              "          google.colab.kernel.accessAllowed ? 'block' : 'none';\n",
              "\n",
              "        async function convertToInteractive(key) {\n",
              "          const element = document.querySelector('#df-e397c16c-a1e7-47c0-94af-1b9d76f635da');\n",
              "          const dataTable =\n",
              "            await google.colab.kernel.invokeFunction('convertToInteractive',\n",
              "                                                     [key], {});\n",
              "          if (!dataTable) return;\n",
              "\n",
              "          const docLinkHtml = 'Like what you see? Visit the ' +\n",
              "            '<a target=\"_blank\" href=https://colab.research.google.com/notebooks/data_table.ipynb>data table notebook</a>'\n",
              "            + ' to learn more about interactive tables.';\n",
              "          element.innerHTML = '';\n",
              "          dataTable['output_type'] = 'display_data';\n",
              "          await google.colab.output.renderOutput(dataTable, element);\n",
              "          const docLink = document.createElement('div');\n",
              "          docLink.innerHTML = docLinkHtml;\n",
              "          element.appendChild(docLink);\n",
              "        }\n",
              "      </script>\n",
              "    </div>\n",
              "  </div>\n",
              "  "
            ]
          },
          "metadata": {},
          "execution_count": 205
        }
      ]
    },
    {
      "cell_type": "code",
      "source": [
        "def sum_mx(df):\n",
        "  return(sum(df[\"mx\"][:-1]))\n",
        "\n",
        "def sum_my(df):\n",
        "  summary = 0\n",
        "  for i in range(1, len(df.columns.values.tolist())-1):\n",
        "    summary+=float(df[upper_line[i-1]][len(df)-1])\n",
        "  return summary\n",
        "\n",
        "def sum_mxi_xi(df):\n",
        "  summary = 0 \n",
        "  for i in range(len(df)-1):\n",
        "    summary+=float(df[\"X\\Y\"][i])*float(df[\"mx\"][i])\n",
        "  return summary\n",
        "\n",
        "def sum_mxi_xi2(df):\n",
        "  summary = 0 \n",
        "  for i in range(len(df)-1):\n",
        "    summary+=float(df[\"X\\Y\"][i])**2 *float(df[\"mx\"][i])\n",
        "  return summary\n",
        "\n",
        "def sum_myi_yi2(df):\n",
        "  summary = 0\n",
        "  for i in range(1, len(df.columns.values.tolist())-1):\n",
        "    summary+=float(df[upper_line[i-1]][len(df)-1])*float(upper_line[i-1])**2\n",
        "  return summary\n",
        "\n",
        "def sum_myi_yi(df):\n",
        "  summary = 0\n",
        "  for i in range(1, len(df.columns.values.tolist())-1):\n",
        "    summary+=float(df[upper_line[i-1]][len(df)-1])*float(upper_line[i-1])\n",
        "  return summary\n",
        "\n",
        "def sum_xi_sum_myi_yi(df):\n",
        "  summary = 0\n",
        "  for i in range(len(df)-1):\n",
        "    micro = 0\n",
        "    for j in range(1, len(df.columns.values.tolist())-1):\n",
        "      tmp = df[upper_line[j-1]][i]\n",
        "      if (tmp==\"-\"):\n",
        "        continue\n",
        "      else:\n",
        "        micro+=float(tmp)*float(upper_line[j-1])\n",
        "    summary+=micro * float(df[\"X\\Y\"][i])\n",
        "  return summary\n",
        "\n",
        "def x_mean_df(df):\n",
        "  return sum_mxi_xi(df)/ (sum_mx(df))\n",
        "\n",
        "def y_mean_df(df):\n",
        "  return sum_myi_yi(df)/(sum_mx(df))\n",
        "\n",
        "def x_variance(df):\n",
        "  return (1/(sum_mx(df)-1)) * (sum_mxi_xi2(df) - 1/sum_mx(df) * sum_mxi_xi(df)**2)\n",
        "\n",
        "def y_variance(df):\n",
        "  return (1/(sum_mx(df)-1)) * (sum_myi_yi2(df) - 1/sum_mx(df) * sum_myi_yi(df)**2)\n",
        "\n",
        "def covariance_xy_moment(df):\n",
        "  return (1/(sum_mx(df)-1)) * (sum_xi_sum_myi_yi(df) - 1/sum_mx(df) * sum_mxi_xi(df) * sum_myi_yi(df))\n",
        "\n",
        "def Sx(df):\n",
        "  return (x_variance(df))**0.5\n",
        "\n",
        "def Sy(df):\n",
        "  return (y_variance(df))**0.5\n",
        "\n",
        "def r_xy(df):\n",
        "  return covariance_xy_moment(df)/(Sx(df)*Sy(df))"
      ],
      "metadata": {
        "id": "M0bowcCfErLz"
      },
      "execution_count": null,
      "outputs": []
    },
    {
      "cell_type": "code",
      "source": [
        "sum_mx(df)"
      ],
      "metadata": {
        "colab": {
          "base_uri": "https://localhost:8080/"
        },
        "id": "66l5v6xgE8an",
        "outputId": "eadf38d6-bf77-49a4-ddfd-5910e0e6542a"
      },
      "execution_count": null,
      "outputs": [
        {
          "output_type": "execute_result",
          "data": {
            "text/plain": [
              "100"
            ]
          },
          "metadata": {},
          "execution_count": 207
        }
      ]
    },
    {
      "cell_type": "code",
      "source": [
        "sum_my(df)"
      ],
      "metadata": {
        "colab": {
          "base_uri": "https://localhost:8080/"
        },
        "id": "JloA8bc1FcaS",
        "outputId": "fba933ae-404d-45f6-d0d1-58d6fc393d0e"
      },
      "execution_count": null,
      "outputs": [
        {
          "output_type": "execute_result",
          "data": {
            "text/plain": [
              "100.0"
            ]
          },
          "metadata": {},
          "execution_count": 208
        }
      ]
    },
    {
      "cell_type": "code",
      "source": [
        "sum_mxi_xi(df)"
      ],
      "metadata": {
        "colab": {
          "base_uri": "https://localhost:8080/"
        },
        "id": "euooHqwJIYQW",
        "outputId": "1ab1ffdb-5e5f-4ed7-da54-9bd072801308"
      },
      "execution_count": null,
      "outputs": [
        {
          "output_type": "execute_result",
          "data": {
            "text/plain": [
              "11190.0"
            ]
          },
          "metadata": {},
          "execution_count": 209
        }
      ]
    },
    {
      "cell_type": "code",
      "source": [
        "sum_myi_yi(df)"
      ],
      "metadata": {
        "colab": {
          "base_uri": "https://localhost:8080/"
        },
        "id": "IsVLg5zOKVla",
        "outputId": "3ff051a8-407e-46a7-e311-89678c20c0be"
      },
      "execution_count": null,
      "outputs": [
        {
          "output_type": "execute_result",
          "data": {
            "text/plain": [
              "1041.0"
            ]
          },
          "metadata": {},
          "execution_count": 210
        }
      ]
    },
    {
      "cell_type": "code",
      "source": [
        "sum_xi_sum_myi_yi(df)"
      ],
      "metadata": {
        "colab": {
          "base_uri": "https://localhost:8080/"
        },
        "id": "cjVqSvfwOI8c",
        "outputId": "566c59d4-a3ca-4595-df36-79740a178bf9"
      },
      "execution_count": null,
      "outputs": [
        {
          "output_type": "execute_result",
          "data": {
            "text/plain": [
              "124245.0"
            ]
          },
          "metadata": {},
          "execution_count": 211
        }
      ]
    },
    {
      "cell_type": "code",
      "source": [
        "x_mean_df(df)"
      ],
      "metadata": {
        "colab": {
          "base_uri": "https://localhost:8080/"
        },
        "id": "JDAKq4VZYy7f",
        "outputId": "39b629e3-8fb6-4489-e680-a9d34b45ee46"
      },
      "execution_count": null,
      "outputs": [
        {
          "output_type": "execute_result",
          "data": {
            "text/plain": [
              "111.9"
            ]
          },
          "metadata": {},
          "execution_count": 212
        }
      ]
    },
    {
      "cell_type": "code",
      "source": [
        "y_mean_df(df)"
      ],
      "metadata": {
        "id": "mhfouDY5Z7Bk",
        "outputId": "7c2d3de6-fa24-4500-ee19-271f666fc27f",
        "colab": {
          "base_uri": "https://localhost:8080/"
        }
      },
      "execution_count": null,
      "outputs": [
        {
          "output_type": "execute_result",
          "data": {
            "text/plain": [
              "10.41"
            ]
          },
          "metadata": {},
          "execution_count": 213
        }
      ]
    },
    {
      "cell_type": "code",
      "source": [
        "x_variance(df)"
      ],
      "metadata": {
        "colab": {
          "base_uri": "https://localhost:8080/"
        },
        "id": "bKuXpZCKfDII",
        "outputId": "abb55376-14bd-4e43-cde8-88bd2a7f1d00"
      },
      "execution_count": null,
      "outputs": [
        {
          "output_type": "execute_result",
          "data": {
            "text/plain": [
              "1815.5454545454547"
            ]
          },
          "metadata": {},
          "execution_count": 214
        }
      ]
    },
    {
      "cell_type": "code",
      "source": [
        "y_variance(df)"
      ],
      "metadata": {
        "colab": {
          "base_uri": "https://localhost:8080/"
        },
        "id": "ri3viFTwiiWY",
        "outputId": "01ae2b29-06a0-46c9-8b38-8196a1e54ac3"
      },
      "execution_count": null,
      "outputs": [
        {
          "output_type": "execute_result",
          "data": {
            "text/plain": [
              "5.355454545454551"
            ]
          },
          "metadata": {},
          "execution_count": 215
        }
      ]
    },
    {
      "cell_type": "code",
      "source": [
        "covariance_xy_moment(df)"
      ],
      "metadata": {
        "colab": {
          "base_uri": "https://localhost:8080/"
        },
        "id": "5nmtUTN2juOf",
        "outputId": "d9255872-457d-4076-8e3b-84f6f812b96b"
      },
      "execution_count": null,
      "outputs": [
        {
          "output_type": "execute_result",
          "data": {
            "text/plain": [
              "78.35454545454537"
            ]
          },
          "metadata": {},
          "execution_count": 216
        }
      ]
    },
    {
      "cell_type": "code",
      "source": [
        "Sx(df)"
      ],
      "metadata": {
        "colab": {
          "base_uri": "https://localhost:8080/"
        },
        "id": "2MLWEx_5kcfb",
        "outputId": "d112530d-2923-449a-ce4f-1785b07dcafb"
      },
      "execution_count": null,
      "outputs": [
        {
          "output_type": "execute_result",
          "data": {
            "text/plain": [
              "42.60921795275589"
            ]
          },
          "metadata": {},
          "execution_count": 217
        }
      ]
    },
    {
      "cell_type": "code",
      "source": [
        "Sy(df)"
      ],
      "metadata": {
        "colab": {
          "base_uri": "https://localhost:8080/"
        },
        "id": "AyuHIZpNkd_A",
        "outputId": "0fd23465-9f49-451c-9dba-185b6ea465cd"
      },
      "execution_count": null,
      "outputs": [
        {
          "output_type": "execute_result",
          "data": {
            "text/plain": [
              "2.31418550368257"
            ]
          },
          "metadata": {},
          "execution_count": 218
        }
      ]
    },
    {
      "cell_type": "code",
      "source": [
        "r_xy(df)"
      ],
      "metadata": {
        "colab": {
          "base_uri": "https://localhost:8080/"
        },
        "id": "87rSsOVMkx12",
        "outputId": "35e8d52e-a2af-4d9b-d5b4-43bc392ce1d0"
      },
      "execution_count": null,
      "outputs": [
        {
          "output_type": "execute_result",
          "data": {
            "text/plain": [
              "0.7946254374234719"
            ]
          },
          "metadata": {},
          "execution_count": 219
        }
      ]
    },
    {
      "cell_type": "markdown",
      "source": [
        "We compose the equation of the empirical regression line on x:"
      ],
      "metadata": {
        "id": "por8-_EalPPI"
      }
    },
    {
      "cell_type": "code",
      "source": [
        "def f(x):\n",
        "  return y_mean_df(df) + r_xy(df) * (Sy(df))/(Sx(df)) * (x - x_mean_df(df))"
      ],
      "metadata": {
        "id": "qVYgJbwLlK7X"
      },
      "execution_count": null,
      "outputs": []
    },
    {
      "cell_type": "code",
      "source": [
        "import matplotlib.pyplot as plt\n",
        "X = []\n",
        "Y = []\n",
        "\n",
        "for i in range(1, len(df.columns.values.tolist())-1):\n",
        "  for j in range(len(df)-1):\n",
        "    if(df[upper_line[i-1]][j] == '-'):\n",
        "      continue\n",
        "    else:\n",
        "      Y.append(float(upper_line[i-1]))\n",
        "      X.append(float(df[\"X\\Y\"][j]))\n",
        "plt.xlabel(\"X\")\n",
        "plt.ylabel(\"Y\")\n",
        "plt.title(\"Equation of the empirical regression\")\n",
        "plt.grid(True)\n",
        "plt.plot(X, Y, \"ro\")\n",
        "X = np.linspace(min(X), max(X), int((max(X)-min(X))/0.1))\n",
        "Y2 = [f(ii) for ii in X]\n",
        "plt.plot(X, Y2)"
      ],
      "metadata": {
        "id": "8Cm-kNmmllkR",
        "colab": {
          "base_uri": "https://localhost:8080/",
          "height": 489
        },
        "outputId": "46f2e446-8600-42c5-e21b-81ad846293e4"
      },
      "execution_count": null,
      "outputs": [
        {
          "output_type": "execute_result",
          "data": {
            "text/plain": [
              "[<matplotlib.lines.Line2D at 0x7f0733d29ff0>]"
            ]
          },
          "metadata": {},
          "execution_count": 221
        },
        {
          "output_type": "display_data",
          "data": {
            "text/plain": [
              "<Figure size 640x480 with 1 Axes>"
            ],
            "image/png": "[encoded data removed]"
          },
          "metadata": {}
        }
      ]
    }
  ]
}