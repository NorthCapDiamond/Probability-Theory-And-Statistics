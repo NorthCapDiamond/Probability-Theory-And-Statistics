{
  "nbformat": 4,
  "nbformat_minor": 0,
  "metadata": {
    "colab": {
      "provenance": []
    },
    "kernelspec": {
      "name": "python3",
      "display_name": "Python 3"
    },
    "language_info": {
      "name": "python"
    }
  },
  "cells": [
    {
      "cell_type": "markdown",
      "source": [
        "Каждый студент получает выборку из 20 чисел\n",
        "(  Мой номер в списке группы -> 3)"
      ],
      "metadata": {
        "id": "_ZsPP9wgziWq"
      }
    },
    {
      "cell_type": "code",
      "execution_count": null,
      "metadata": {
        "colab": {
          "base_uri": "https://localhost:8080/"
        },
        "id": "xmNoztPMzcwy",
        "outputId": "e7228ea1-1277-4191-f05d-a5a40aa942be"
      },
      "outputs": [
        {
          "output_type": "execute_result",
          "data": {
            "text/plain": [
              "array([-0.03,  0.73, -0.59, -1.59,  0.38,  1.49,  0.14, -0.62, -1.59,\n",
              "        1.45, -0.38, -1.49, -0.15,  0.63,  0.06, -1.59,  0.61,  0.62,\n",
              "       -0.05,  1.56])"
            ]
          },
          "metadata": {},
          "execution_count": 198
        }
      ],
      "source": [
        "import numpy as np \n",
        "input_array = np.array([-0.03, 0.73, -0.59, -1.59, 0.38, 1.49, 0.14, -0.62, -1.59, 1.45, -0.38, -1.49, -0.15, 0.63, 0.06, -1.59, 0.61, 0.62, -0.05, 1.56])\n",
        "input_array"
      ]
    },
    {
      "cell_type": "markdown",
      "source": [
        "####Необходимо определить следующие статистические характеристики:"
      ],
      "metadata": {
        "id": "UGrkSwht4mPY"
      }
    },
    {
      "cell_type": "markdown",
      "source": [
        "1. вариационный ряд"
      ],
      "metadata": {
        "id": "1uRqjDob4qbX"
      }
    },
    {
      "cell_type": "code",
      "source": [
        "input_array = np.sort(input_array, axis=None)\n",
        "input_array"
      ],
      "metadata": {
        "colab": {
          "base_uri": "https://localhost:8080/"
        },
        "id": "l925PLZF1vUW",
        "outputId": "2902c91d-ee4c-4783-f8ff-db25164bd96c"
      },
      "execution_count": null,
      "outputs": [
        {
          "output_type": "execute_result",
          "data": {
            "text/plain": [
              "array([-1.59, -1.59, -1.59, -1.49, -0.62, -0.59, -0.38, -0.15, -0.05,\n",
              "       -0.03,  0.06,  0.14,  0.38,  0.61,  0.62,  0.63,  0.73,  1.45,\n",
              "        1.49,  1.56])"
            ]
          },
          "metadata": {},
          "execution_count": 199
        }
      ]
    },
    {
      "cell_type": "markdown",
      "source": [
        "Для построения таблицы неплохо бы создать множество элементов. "
      ],
      "metadata": {
        "id": "YaOgKuQo4vrA"
      }
    },
    {
      "cell_type": "code",
      "source": [
        "input_set = set(input_array.flatten())\n",
        "input_set = sorted(input_set)\n",
        "input_set"
      ],
      "metadata": {
        "colab": {
          "base_uri": "https://localhost:8080/"
        },
        "id": "UNtI1ZD045g9",
        "outputId": "269adb85-4f66-4fdd-d7f0-26096d82fcff"
      },
      "execution_count": null,
      "outputs": [
        {
          "output_type": "execute_result",
          "data": {
            "text/plain": [
              "[-1.59,\n",
              " -1.49,\n",
              " -0.62,\n",
              " -0.59,\n",
              " -0.38,\n",
              " -0.15,\n",
              " -0.05,\n",
              " -0.03,\n",
              " 0.06,\n",
              " 0.14,\n",
              " 0.38,\n",
              " 0.61,\n",
              " 0.62,\n",
              " 0.63,\n",
              " 0.73,\n",
              " 1.45,\n",
              " 1.49,\n",
              " 1.56]"
            ]
          },
          "metadata": {},
          "execution_count": 200
        }
      ]
    },
    {
      "cell_type": "markdown",
      "source": [
        "Создадим таблицу: "
      ],
      "metadata": {
        "id": "H1_QV2vY6VpF"
      }
    },
    {
      "cell_type": "code",
      "source": [
        "import pandas as pd\n",
        "import collections\n",
        "df = pd.DataFrame(columns=['xi', 'fi = X.count(xi)','xi * fi', 'Accumulated frequency', '|xi-x_average|*fi', '(xi-x_average)^2 *fi', 'Relative frequency' ])\n",
        "af = df[\"Accumulated frequency\"].sum()\n",
        "for val in input_set:\n",
        "  xi = val\n",
        "  fi = ((input_array==xi).sum())\n",
        "  xi_fi = xi*fi\n",
        "  af += fi\n",
        "  abs_fi = abs(xi - input_array.mean()) * fi\n",
        "  square_fi = (xi - input_array.mean())**2 * fi\n",
        "  rf = fi/ (input_array.shape[0])\n",
        "\n",
        "  df.loc[len(df.index)] = [xi, fi, xi_fi, af, abs_fi, square_fi, rf]\n",
        "\n",
        "\n",
        "df"
      ],
      "metadata": {
        "colab": {
          "base_uri": "https://localhost:8080/",
          "height": 607
        },
        "id": "eN2BRHHH6ZYU",
        "outputId": "548ecd4e-8c18-4717-d316-d9ab00db3c7f"
      },
      "execution_count": null,
      "outputs": [
        {
          "output_type": "execute_result",
          "data": {
            "text/plain": [
              "      xi  fi = X.count(xi)  xi * fi  Accumulated frequency  |xi-x_average|*fi  \\\n",
              "0  -1.59               3.0    -4.77                    3.0             4.7085   \n",
              "1  -1.49               1.0    -1.49                    4.0             1.4695   \n",
              "2  -0.62               1.0    -0.62                    5.0             0.5995   \n",
              "3  -0.59               1.0    -0.59                    6.0             0.5695   \n",
              "4  -0.38               1.0    -0.38                    7.0             0.3595   \n",
              "5  -0.15               1.0    -0.15                    8.0             0.1295   \n",
              "6  -0.05               1.0    -0.05                    9.0             0.0295   \n",
              "7  -0.03               1.0    -0.03                   10.0             0.0095   \n",
              "8   0.06               1.0     0.06                   11.0             0.0805   \n",
              "9   0.14               1.0     0.14                   12.0             0.1605   \n",
              "10  0.38               1.0     0.38                   13.0             0.4005   \n",
              "11  0.61               1.0     0.61                   14.0             0.6305   \n",
              "12  0.62               1.0     0.62                   15.0             0.6405   \n",
              "13  0.63               1.0     0.63                   16.0             0.6505   \n",
              "14  0.73               1.0     0.73                   17.0             0.7505   \n",
              "15  1.45               1.0     1.45                   18.0             1.4705   \n",
              "16  1.49               1.0     1.49                   19.0             1.5105   \n",
              "17  1.56               1.0     1.56                   20.0             1.5805   \n",
              "\n",
              "    (xi-x_average)^2 *fi  Relative frequency  \n",
              "0               7.389991                0.15  \n",
              "1               2.159430                0.05  \n",
              "2               0.359400                0.05  \n",
              "3               0.324330                0.05  \n",
              "4               0.129240                0.05  \n",
              "5               0.016770                0.05  \n",
              "6               0.000870                0.05  \n",
              "7               0.000090                0.05  \n",
              "8               0.006480                0.05  \n",
              "9               0.025760                0.05  \n",
              "10              0.160400                0.05  \n",
              "11              0.397530                0.05  \n",
              "12              0.410240                0.05  \n",
              "13              0.423150                0.05  \n",
              "14              0.563250                0.05  \n",
              "15              2.162370                0.05  \n",
              "16              2.281610                0.05  \n",
              "17              2.497980                0.05  "
            ],
            "text/html": [
              "\n",
              "  <div id=\"df-4b678f92-d90c-409a-bda1-a1826045703e\">\n",
              "    <div class=\"colab-df-container\">\n",
              "      <div>\n",
              "<style scoped>\n",
              "    .dataframe tbody tr th:only-of-type {\n",
              "        vertical-align: middle;\n",
              "    }\n",
              "\n",
              "    .dataframe tbody tr th {\n",
              "        vertical-align: top;\n",
              "    }\n",
              "\n",
              "    .dataframe thead th {\n",
              "        text-align: right;\n",
              "    }\n",
              "</style>\n",
              "<table border=\"1\" class=\"dataframe\">\n",
              "  <thead>\n",
              "    <tr style=\"text-align: right;\">\n",
              "      <th></th>\n",
              "      <th>xi</th>\n",
              "      <th>fi = X.count(xi)</th>\n",
              "      <th>xi * fi</th>\n",
              "      <th>Accumulated frequency</th>\n",
              "      <th>|xi-x_average|*fi</th>\n",
              "      <th>(xi-x_average)^2 *fi</th>\n",
              "      <th>Relative frequency</th>\n",
              "    </tr>\n",
              "  </thead>\n",
              "  <tbody>\n",
              "    <tr>\n",
              "      <th>0</th>\n",
              "      <td>-1.59</td>\n",
              "      <td>3.0</td>\n",
              "      <td>-4.77</td>\n",
              "      <td>3.0</td>\n",
              "      <td>4.7085</td>\n",
              "      <td>7.389991</td>\n",
              "      <td>0.15</td>\n",
              "    </tr>\n",
              "    <tr>\n",
              "      <th>1</th>\n",
              "      <td>-1.49</td>\n",
              "      <td>1.0</td>\n",
              "      <td>-1.49</td>\n",
              "      <td>4.0</td>\n",
              "      <td>1.4695</td>\n",
              "      <td>2.159430</td>\n",
              "      <td>0.05</td>\n",
              "    </tr>\n",
              "    <tr>\n",
              "      <th>2</th>\n",
              "      <td>-0.62</td>\n",
              "      <td>1.0</td>\n",
              "      <td>-0.62</td>\n",
              "      <td>5.0</td>\n",
              "      <td>0.5995</td>\n",
              "      <td>0.359400</td>\n",
              "      <td>0.05</td>\n",
              "    </tr>\n",
              "    <tr>\n",
              "      <th>3</th>\n",
              "      <td>-0.59</td>\n",
              "      <td>1.0</td>\n",
              "      <td>-0.59</td>\n",
              "      <td>6.0</td>\n",
              "      <td>0.5695</td>\n",
              "      <td>0.324330</td>\n",
              "      <td>0.05</td>\n",
              "    </tr>\n",
              "    <tr>\n",
              "      <th>4</th>\n",
              "      <td>-0.38</td>\n",
              "      <td>1.0</td>\n",
              "      <td>-0.38</td>\n",
              "      <td>7.0</td>\n",
              "      <td>0.3595</td>\n",
              "      <td>0.129240</td>\n",
              "      <td>0.05</td>\n",
              "    </tr>\n",
              "    <tr>\n",
              "      <th>5</th>\n",
              "      <td>-0.15</td>\n",
              "      <td>1.0</td>\n",
              "      <td>-0.15</td>\n",
              "      <td>8.0</td>\n",
              "      <td>0.1295</td>\n",
              "      <td>0.016770</td>\n",
              "      <td>0.05</td>\n",
              "    </tr>\n",
              "    <tr>\n",
              "      <th>6</th>\n",
              "      <td>-0.05</td>\n",
              "      <td>1.0</td>\n",
              "      <td>-0.05</td>\n",
              "      <td>9.0</td>\n",
              "      <td>0.0295</td>\n",
              "      <td>0.000870</td>\n",
              "      <td>0.05</td>\n",
              "    </tr>\n",
              "    <tr>\n",
              "      <th>7</th>\n",
              "      <td>-0.03</td>\n",
              "      <td>1.0</td>\n",
              "      <td>-0.03</td>\n",
              "      <td>10.0</td>\n",
              "      <td>0.0095</td>\n",
              "      <td>0.000090</td>\n",
              "      <td>0.05</td>\n",
              "    </tr>\n",
              "    <tr>\n",
              "      <th>8</th>\n",
              "      <td>0.06</td>\n",
              "      <td>1.0</td>\n",
              "      <td>0.06</td>\n",
              "      <td>11.0</td>\n",
              "      <td>0.0805</td>\n",
              "      <td>0.006480</td>\n",
              "      <td>0.05</td>\n",
              "    </tr>\n",
              "    <tr>\n",
              "      <th>9</th>\n",
              "      <td>0.14</td>\n",
              "      <td>1.0</td>\n",
              "      <td>0.14</td>\n",
              "      <td>12.0</td>\n",
              "      <td>0.1605</td>\n",
              "      <td>0.025760</td>\n",
              "      <td>0.05</td>\n",
              "    </tr>\n",
              "    <tr>\n",
              "      <th>10</th>\n",
              "      <td>0.38</td>\n",
              "      <td>1.0</td>\n",
              "      <td>0.38</td>\n",
              "      <td>13.0</td>\n",
              "      <td>0.4005</td>\n",
              "      <td>0.160400</td>\n",
              "      <td>0.05</td>\n",
              "    </tr>\n",
              "    <tr>\n",
              "      <th>11</th>\n",
              "      <td>0.61</td>\n",
              "      <td>1.0</td>\n",
              "      <td>0.61</td>\n",
              "      <td>14.0</td>\n",
              "      <td>0.6305</td>\n",
              "      <td>0.397530</td>\n",
              "      <td>0.05</td>\n",
              "    </tr>\n",
              "    <tr>\n",
              "      <th>12</th>\n",
              "      <td>0.62</td>\n",
              "      <td>1.0</td>\n",
              "      <td>0.62</td>\n",
              "      <td>15.0</td>\n",
              "      <td>0.6405</td>\n",
              "      <td>0.410240</td>\n",
              "      <td>0.05</td>\n",
              "    </tr>\n",
              "    <tr>\n",
              "      <th>13</th>\n",
              "      <td>0.63</td>\n",
              "      <td>1.0</td>\n",
              "      <td>0.63</td>\n",
              "      <td>16.0</td>\n",
              "      <td>0.6505</td>\n",
              "      <td>0.423150</td>\n",
              "      <td>0.05</td>\n",
              "    </tr>\n",
              "    <tr>\n",
              "      <th>14</th>\n",
              "      <td>0.73</td>\n",
              "      <td>1.0</td>\n",
              "      <td>0.73</td>\n",
              "      <td>17.0</td>\n",
              "      <td>0.7505</td>\n",
              "      <td>0.563250</td>\n",
              "      <td>0.05</td>\n",
              "    </tr>\n",
              "    <tr>\n",
              "      <th>15</th>\n",
              "      <td>1.45</td>\n",
              "      <td>1.0</td>\n",
              "      <td>1.45</td>\n",
              "      <td>18.0</td>\n",
              "      <td>1.4705</td>\n",
              "      <td>2.162370</td>\n",
              "      <td>0.05</td>\n",
              "    </tr>\n",
              "    <tr>\n",
              "      <th>16</th>\n",
              "      <td>1.49</td>\n",
              "      <td>1.0</td>\n",
              "      <td>1.49</td>\n",
              "      <td>19.0</td>\n",
              "      <td>1.5105</td>\n",
              "      <td>2.281610</td>\n",
              "      <td>0.05</td>\n",
              "    </tr>\n",
              "    <tr>\n",
              "      <th>17</th>\n",
              "      <td>1.56</td>\n",
              "      <td>1.0</td>\n",
              "      <td>1.56</td>\n",
              "      <td>20.0</td>\n",
              "      <td>1.5805</td>\n",
              "      <td>2.497980</td>\n",
              "      <td>0.05</td>\n",
              "    </tr>\n",
              "  </tbody>\n",
              "</table>\n",
              "</div>\n",
              "      <button class=\"colab-df-convert\" onclick=\"convertToInteractive('df-4b678f92-d90c-409a-bda1-a1826045703e')\"\n",
              "              title=\"Convert this dataframe to an interactive table.\"\n",
              "              style=\"display:none;\">\n",
              "        \n",
              "  <svg xmlns=\"http://www.w3.org/2000/svg\" height=\"24px\"viewBox=\"0 0 24 24\"\n",
              "       width=\"24px\">\n",
              "    <path d=\"M0 0h24v24H0V0z\" fill=\"none\"/>\n",
              "    <path d=\"M18.56 5.44l.94 2.06.94-2.06 2.06-.94-2.06-.94-.94-2.06-.94 2.06-2.06.94zm-11 1L8.5 8.5l.94-2.06 2.06-.94-2.06-.94L8.5 2.5l-.94 2.06-2.06.94zm10 10l.94 2.06.94-2.06 2.06-.94-2.06-.94-.94-2.06-.94 2.06-2.06.94z\"/><path d=\"M17.41 7.96l-1.37-1.37c-.4-.4-.92-.59-1.43-.59-.52 0-1.04.2-1.43.59L10.3 9.45l-7.72 7.72c-.78.78-.78 2.05 0 2.83L4 21.41c.39.39.9.59 1.41.59.51 0 1.02-.2 1.41-.59l7.78-7.78 2.81-2.81c.8-.78.8-2.07 0-2.86zM5.41 20L4 18.59l7.72-7.72 1.47 1.35L5.41 20z\"/>\n",
              "  </svg>\n",
              "      </button>\n",
              "      \n",
              "  <style>\n",
              "    .colab-df-container {\n",
              "      display:flex;\n",
              "      flex-wrap:wrap;\n",
              "      gap: 12px;\n",
              "    }\n",
              "\n",
              "    .colab-df-convert {\n",
              "      background-color: #E8F0FE;\n",
              "      border: none;\n",
              "      border-radius: 50%;\n",
              "      cursor: pointer;\n",
              "      display: none;\n",
              "      fill: #1967D2;\n",
              "      height: 32px;\n",
              "      padding: 0 0 0 0;\n",
              "      width: 32px;\n",
              "    }\n",
              "\n",
              "    .colab-df-convert:hover {\n",
              "      background-color: #E2EBFA;\n",
              "      box-shadow: 0px 1px 2px rgba(60, 64, 67, 0.3), 0px 1px 3px 1px rgba(60, 64, 67, 0.15);\n",
              "      fill: #174EA6;\n",
              "    }\n",
              "\n",
              "    [theme=dark] .colab-df-convert {\n",
              "      background-color: #3B4455;\n",
              "      fill: #D2E3FC;\n",
              "    }\n",
              "\n",
              "    [theme=dark] .colab-df-convert:hover {\n",
              "      background-color: #434B5C;\n",
              "      box-shadow: 0px 1px 3px 1px rgba(0, 0, 0, 0.15);\n",
              "      filter: drop-shadow(0px 1px 2px rgba(0, 0, 0, 0.3));\n",
              "      fill: #FFFFFF;\n",
              "    }\n",
              "  </style>\n",
              "\n",
              "      <script>\n",
              "        const buttonEl =\n",
              "          document.querySelector('#df-4b678f92-d90c-409a-bda1-a1826045703e button.colab-df-convert');\n",
              "        buttonEl.style.display =\n",
              "          google.colab.kernel.accessAllowed ? 'block' : 'none';\n",
              "\n",
              "        async function convertToInteractive(key) {\n",
              "          const element = document.querySelector('#df-4b678f92-d90c-409a-bda1-a1826045703e');\n",
              "          const dataTable =\n",
              "            await google.colab.kernel.invokeFunction('convertToInteractive',\n",
              "                                                     [key], {});\n",
              "          if (!dataTable) return;\n",
              "\n",
              "          const docLinkHtml = 'Like what you see? Visit the ' +\n",
              "            '<a target=\"_blank\" href=https://colab.research.google.com/notebooks/data_table.ipynb>data table notebook</a>'\n",
              "            + ' to learn more about interactive tables.';\n",
              "          element.innerHTML = '';\n",
              "          dataTable['output_type'] = 'display_data';\n",
              "          await google.colab.output.renderOutput(dataTable, element);\n",
              "          const docLink = document.createElement('div');\n",
              "          docLink.innerHTML = docLinkHtml;\n",
              "          element.appendChild(docLink);\n",
              "        }\n",
              "      </script>\n",
              "    </div>\n",
              "  </div>\n",
              "  "
            ]
          },
          "metadata": {},
          "execution_count": 201
        }
      ]
    },
    {
      "cell_type": "markdown",
      "source": [
        "Построим Summary table"
      ],
      "metadata": {
        "id": "phnlaqguErLE"
      }
    },
    {
      "cell_type": "markdown",
      "source": [
        "Для проверки себя можно использовать следующий сервис: https://math.semestr.ru/group/group.php"
      ],
      "metadata": {
        "id": "E9dQvLwlGU2t"
      }
    },
    {
      "cell_type": "code",
      "source": [
        "summary_df = pd.DataFrame(columns=[\"Sum fi\", \"M(X)\", \"Sum |xi-x_average|*fi\", \"Sum (xi-x_average)^2 *fi\", \"Sum Relative frequency\", \"Min\", \"Max\", \"Scope\"])\n",
        "summary_df.loc[len(summary_df.index)] = [df[\"fi = X.count(xi)\"].sum(), df[\"xi * fi\"].sum(), df[\"|xi-x_average|*fi\"].sum(), df[\"(xi-x_average)^2 *fi\"].sum(), df[\"Relative frequency\"].sum(), df[\"xi\"].min(), df[\"xi\"].max(), df[\"xi\"].max() - df[\"xi\"].min()]\n",
        "\n",
        "summary_df"
      ],
      "metadata": {
        "colab": {
          "base_uri": "https://localhost:8080/",
          "height": 80
        },
        "id": "Dn_aaH0bEttB",
        "outputId": "403895c3-2f5f-4cb2-f131-499f9dbb93d1"
      },
      "execution_count": null,
      "outputs": [
        {
          "output_type": "execute_result",
          "data": {
            "text/plain": [
              "   Sum fi  M(X)  Sum |xi-x_average|*fi  Sum (xi-x_average)^2 *fi  \\\n",
              "0    20.0 -0.41                  15.75                 19.308895   \n",
              "\n",
              "   Sum Relative frequency   Min   Max  Scope  \n",
              "0                     1.0 -1.59  1.56   3.15  "
            ],
            "text/html": [
              "\n",
              "  <div id=\"df-6e8ef147-6c31-4efb-b2a8-350213b592f2\">\n",
              "    <div class=\"colab-df-container\">\n",
              "      <div>\n",
              "<style scoped>\n",
              "    .dataframe tbody tr th:only-of-type {\n",
              "        vertical-align: middle;\n",
              "    }\n",
              "\n",
              "    .dataframe tbody tr th {\n",
              "        vertical-align: top;\n",
              "    }\n",
              "\n",
              "    .dataframe thead th {\n",
              "        text-align: right;\n",
              "    }\n",
              "</style>\n",
              "<table border=\"1\" class=\"dataframe\">\n",
              "  <thead>\n",
              "    <tr style=\"text-align: right;\">\n",
              "      <th></th>\n",
              "      <th>Sum fi</th>\n",
              "      <th>M(X)</th>\n",
              "      <th>Sum |xi-x_average|*fi</th>\n",
              "      <th>Sum (xi-x_average)^2 *fi</th>\n",
              "      <th>Sum Relative frequency</th>\n",
              "      <th>Min</th>\n",
              "      <th>Max</th>\n",
              "      <th>Scope</th>\n",
              "    </tr>\n",
              "  </thead>\n",
              "  <tbody>\n",
              "    <tr>\n",
              "      <th>0</th>\n",
              "      <td>20.0</td>\n",
              "      <td>-0.41</td>\n",
              "      <td>15.75</td>\n",
              "      <td>19.308895</td>\n",
              "      <td>1.0</td>\n",
              "      <td>-1.59</td>\n",
              "      <td>1.56</td>\n",
              "      <td>3.15</td>\n",
              "    </tr>\n",
              "  </tbody>\n",
              "</table>\n",
              "</div>\n",
              "      <button class=\"colab-df-convert\" onclick=\"convertToInteractive('df-6e8ef147-6c31-4efb-b2a8-350213b592f2')\"\n",
              "              title=\"Convert this dataframe to an interactive table.\"\n",
              "              style=\"display:none;\">\n",
              "        \n",
              "  <svg xmlns=\"http://www.w3.org/2000/svg\" height=\"24px\"viewBox=\"0 0 24 24\"\n",
              "       width=\"24px\">\n",
              "    <path d=\"M0 0h24v24H0V0z\" fill=\"none\"/>\n",
              "    <path d=\"M18.56 5.44l.94 2.06.94-2.06 2.06-.94-2.06-.94-.94-2.06-.94 2.06-2.06.94zm-11 1L8.5 8.5l.94-2.06 2.06-.94-2.06-.94L8.5 2.5l-.94 2.06-2.06.94zm10 10l.94 2.06.94-2.06 2.06-.94-2.06-.94-.94-2.06-.94 2.06-2.06.94z\"/><path d=\"M17.41 7.96l-1.37-1.37c-.4-.4-.92-.59-1.43-.59-.52 0-1.04.2-1.43.59L10.3 9.45l-7.72 7.72c-.78.78-.78 2.05 0 2.83L4 21.41c.39.39.9.59 1.41.59.51 0 1.02-.2 1.41-.59l7.78-7.78 2.81-2.81c.8-.78.8-2.07 0-2.86zM5.41 20L4 18.59l7.72-7.72 1.47 1.35L5.41 20z\"/>\n",
              "  </svg>\n",
              "      </button>\n",
              "      \n",
              "  <style>\n",
              "    .colab-df-container {\n",
              "      display:flex;\n",
              "      flex-wrap:wrap;\n",
              "      gap: 12px;\n",
              "    }\n",
              "\n",
              "    .colab-df-convert {\n",
              "      background-color: #E8F0FE;\n",
              "      border: none;\n",
              "      border-radius: 50%;\n",
              "      cursor: pointer;\n",
              "      display: none;\n",
              "      fill: #1967D2;\n",
              "      height: 32px;\n",
              "      padding: 0 0 0 0;\n",
              "      width: 32px;\n",
              "    }\n",
              "\n",
              "    .colab-df-convert:hover {\n",
              "      background-color: #E2EBFA;\n",
              "      box-shadow: 0px 1px 2px rgba(60, 64, 67, 0.3), 0px 1px 3px 1px rgba(60, 64, 67, 0.15);\n",
              "      fill: #174EA6;\n",
              "    }\n",
              "\n",
              "    [theme=dark] .colab-df-convert {\n",
              "      background-color: #3B4455;\n",
              "      fill: #D2E3FC;\n",
              "    }\n",
              "\n",
              "    [theme=dark] .colab-df-convert:hover {\n",
              "      background-color: #434B5C;\n",
              "      box-shadow: 0px 1px 3px 1px rgba(0, 0, 0, 0.15);\n",
              "      filter: drop-shadow(0px 1px 2px rgba(0, 0, 0, 0.3));\n",
              "      fill: #FFFFFF;\n",
              "    }\n",
              "  </style>\n",
              "\n",
              "      <script>\n",
              "        const buttonEl =\n",
              "          document.querySelector('#df-6e8ef147-6c31-4efb-b2a8-350213b592f2 button.colab-df-convert');\n",
              "        buttonEl.style.display =\n",
              "          google.colab.kernel.accessAllowed ? 'block' : 'none';\n",
              "\n",
              "        async function convertToInteractive(key) {\n",
              "          const element = document.querySelector('#df-6e8ef147-6c31-4efb-b2a8-350213b592f2');\n",
              "          const dataTable =\n",
              "            await google.colab.kernel.invokeFunction('convertToInteractive',\n",
              "                                                     [key], {});\n",
              "          if (!dataTable) return;\n",
              "\n",
              "          const docLinkHtml = 'Like what you see? Visit the ' +\n",
              "            '<a target=\"_blank\" href=https://colab.research.google.com/notebooks/data_table.ipynb>data table notebook</a>'\n",
              "            + ' to learn more about interactive tables.';\n",
              "          element.innerHTML = '';\n",
              "          dataTable['output_type'] = 'display_data';\n",
              "          await google.colab.output.renderOutput(dataTable, element);\n",
              "          const docLink = document.createElement('div');\n",
              "          docLink.innerHTML = docLinkHtml;\n",
              "          element.appendChild(docLink);\n",
              "        }\n",
              "      </script>\n",
              "    </div>\n",
              "  </div>\n",
              "  "
            ]
          },
          "metadata": {},
          "execution_count": 202
        }
      ]
    },
    {
      "cell_type": "markdown",
      "source": [
        "Теперь у нас есть вариационный ряд, экстремальные значения и размах, оценки математического ожидания"
      ],
      "metadata": {
        "id": "lL7sLsGEJ1fj"
      }
    },
    {
      "cell_type": "markdown",
      "source": [
        "среднеквадратического отклонение\n",
        "Для начала найдем дисперсию, а потом и СКО."
      ],
      "metadata": {
        "id": "9nSk7G_QJ7q5"
      }
    },
    {
      "cell_type": "code",
      "source": [
        "D = (df[\"(xi-x_average)^2 *fi\"].sum())/(df[\"fi = X.count(xi)\"].sum())\n",
        "D"
      ],
      "metadata": {
        "colab": {
          "base_uri": "https://localhost:8080/"
        },
        "id": "MV4lS4J2J_dG",
        "outputId": "673a7801-f26e-43cc-a253-794c41ab45a0"
      },
      "execution_count": null,
      "outputs": [
        {
          "output_type": "execute_result",
          "data": {
            "text/plain": [
              "0.9654447500000002"
            ]
          },
          "metadata": {},
          "execution_count": 203
        }
      ]
    },
    {
      "cell_type": "code",
      "source": [
        "sigma = D**0.5\n",
        "sigma"
      ],
      "metadata": {
        "colab": {
          "base_uri": "https://localhost:8080/"
        },
        "id": "lP6zP2XZKmc-",
        "outputId": "89248b0f-46ca-4db8-aef2-dfbd2fc8f26d"
      },
      "execution_count": null,
      "outputs": [
        {
          "output_type": "execute_result",
          "data": {
            "text/plain": [
              "0.9825704809325386"
            ]
          },
          "metadata": {},
          "execution_count": 204
        }
      ]
    },
    {
      "cell_type": "markdown",
      "source": [
        "Найдем и оценку СКО. \n",
        "Для начала вычислим несмещенную оценку дисперсии"
      ],
      "metadata": {
        "id": "A1XPZ7eaK355"
      }
    },
    {
      "cell_type": "code",
      "source": [
        "S2 = df[\"(xi-x_average)^2 *fi\"].sum()/(df[\"fi = X.count(xi)\"].sum()-1)\n",
        "S2"
      ],
      "metadata": {
        "colab": {
          "base_uri": "https://localhost:8080/"
        },
        "id": "sbmg_E2xK6mC",
        "outputId": "e929e17c-f634-404e-8309-354aa29b8758"
      },
      "execution_count": null,
      "outputs": [
        {
          "output_type": "execute_result",
          "data": {
            "text/plain": [
              "1.0162576315789476"
            ]
          },
          "metadata": {},
          "execution_count": 205
        }
      ]
    },
    {
      "cell_type": "code",
      "source": [
        "s = S2**0.5\n",
        "s"
      ],
      "metadata": {
        "colab": {
          "base_uri": "https://localhost:8080/"
        },
        "id": "OXTQDhCjLUjc",
        "outputId": "7b55688d-0555-46dc-cafb-67e94bcbe021"
      },
      "execution_count": null,
      "outputs": [
        {
          "output_type": "execute_result",
          "data": {
            "text/plain": [
              "1.0080960428346832"
            ]
          },
          "metadata": {},
          "execution_count": 206
        }
      ]
    },
    {
      "cell_type": "markdown",
      "source": [
        "В качестве оценки для математического ожидания естественно предложить среднее арифметическое наблюденных значения. Нетрудно убедиться, что эта оценка является состоятельной: согласно закону больших чисел, при увеличении n величина m с волной (С.О.) сходится по вероятности к m."
      ],
      "metadata": {
        "id": "Aw8G6Z-CLyQQ"
      }
    },
    {
      "cell_type": "code",
      "source": [
        "sm = (df[\"xi * fi\"].sum())/(df.shape[0])\n",
        "sm"
      ],
      "metadata": {
        "colab": {
          "base_uri": "https://localhost:8080/"
        },
        "id": "HAnnLidTMIRM",
        "outputId": "92ae5017-46dc-47c0-bb7d-defd6dfae69c"
      },
      "execution_count": null,
      "outputs": [
        {
          "output_type": "execute_result",
          "data": {
            "text/plain": [
              "-0.022777777777777824"
            ]
          },
          "metadata": {},
          "execution_count": 207
        }
      ]
    },
    {
      "cell_type": "markdown",
      "source": [
        "теперь будем искать эмпирическую функцию распределения. \n",
        "Тут добавим сглаживание "
      ],
      "metadata": {
        "id": "ksV4BMhXM4rq"
      }
    },
    {
      "cell_type": "code",
      "source": [
        "from matplotlib import pyplot as plt \n",
        "import seaborn as sns \n",
        "sns.kdeplot(input_array, cumulative=True)"
      ],
      "metadata": {
        "colab": {
          "base_uri": "https://localhost:8080/",
          "height": 447
        },
        "id": "BjL3z1NLPL1p",
        "outputId": "449b771a-7cd2-436b-b09e-95435a530489"
      },
      "execution_count": null,
      "outputs": [
        {
          "output_type": "execute_result",
          "data": {
            "text/plain": [
              "<Axes: ylabel='Density'>"
            ]
          },
          "metadata": {},
          "execution_count": 208
        },
        {
          "output_type": "display_data",
          "data": {
            "text/plain": [
              "<Figure size 640x480 with 1 Axes>"
            ],
            "image/png": "[encoded data removed]"
          },
          "metadata": {}
        }
      ]
    },
    {
      "cell_type": "markdown",
      "source": [
        "а тут без него"
      ],
      "metadata": {
        "id": "cy1qaXeoT0uW"
      }
    },
    {
      "cell_type": "code",
      "source": [
        "a = plt.hist(input_array, histtype='step', cumulative=True, bins=len(input_array), color=\"Red\")"
      ],
      "metadata": {
        "colab": {
          "base_uri": "https://localhost:8080/",
          "height": 430
        },
        "id": "CFPC5aitPLtm",
        "outputId": "47dac4d0-5efa-4ebc-e43a-dd4fc0f08774"
      },
      "execution_count": null,
      "outputs": [
        {
          "output_type": "display_data",
          "data": {
            "text/plain": [
              "<Figure size 640x480 with 1 Axes>"
            ],
            "image/png": "[encoded data removed]"
          },
          "metadata": {}
        }
      ]
    },
    {
      "cell_type": "markdown",
      "source": [
        "Давайте еще руками запишем саму функцию: "
      ],
      "metadata": {
        "id": "0dGwqhenUQwH"
      }
    },
    {
      "cell_type": "code",
      "source": [
        "array_of_frequency = df[\"Relative frequency\"]\n",
        "array_of_values = df[\"xi\"]\n",
        "print(*array_of_frequency)\n",
        "print()\n",
        "print(*array_of_values)\n",
        "def F(x):\n",
        "  prob = 0\n",
        "  if(x < array_of_values[0]).any():\n",
        "    return prob\n",
        "  if(x>=array_of_values[len(array_of_values)-1]).any():\n",
        "    return 1\n",
        "  i=0\n",
        "  while (x > array_of_values[i]).any():\n",
        "    prob+=array_of_frequency[i]\n",
        "    i+=1\n",
        "  return prob\n",
        "print()\n",
        "F(0)"
      ],
      "metadata": {
        "colab": {
          "base_uri": "https://localhost:8080/"
        },
        "id": "KSRxtvv1UVTx",
        "outputId": "ce06818c-c679-4a1d-c91b-ee938bc92b99"
      },
      "execution_count": null,
      "outputs": [
        {
          "output_type": "stream",
          "name": "stdout",
          "text": [
            "0.15 0.05 0.05 0.05 0.05 0.05 0.05 0.05 0.05 0.05 0.05 0.05 0.05 0.05 0.05 0.05 0.05 0.05\n",
            "\n",
            "-1.59 -1.49 -0.62 -0.59 -0.38 -0.15 -0.05 -0.03 0.06 0.14 0.38 0.61 0.62 0.63 0.73 1.45 1.49 1.56\n",
            "\n"
          ]
        },
        {
          "output_type": "execute_result",
          "data": {
            "text/plain": [
              "0.49999999999999994"
            ]
          },
          "metadata": {},
          "execution_count": 210
        }
      ]
    },
    {
      "cell_type": "markdown",
      "source": [
        "На всякий случай построим и этот график:"
      ],
      "metadata": {
        "id": "7ey61nXnXtm3"
      }
    },
    {
      "cell_type": "code",
      "source": [
        "x = [ii/10 for ii in range(-20, 20)]\n",
        "y = [F(ii) for ii in x]\n",
        "\n",
        "plt.plot(x, y)\n"
      ],
      "metadata": {
        "colab": {
          "base_uri": "https://localhost:8080/",
          "height": 447
        },
        "id": "3F_fom5bXx0I",
        "outputId": "c71b74c3-91c8-4691-96b6-36cdd3064a37"
      },
      "execution_count": null,
      "outputs": [
        {
          "output_type": "execute_result",
          "data": {
            "text/plain": [
              "[<matplotlib.lines.Line2D at 0x7f8c3d0b0ac0>]"
            ]
          },
          "metadata": {},
          "execution_count": 211
        },
        {
          "output_type": "display_data",
          "data": {
            "text/plain": [
              "<Figure size 640x480 with 1 Axes>"
            ],
            "image/png": "[encoded data removed]"
          },
          "metadata": {}
        }
      ]
    },
    {
      "cell_type": "markdown",
      "source": [
        "Построим гистограмму приведенных частот группированной выборки"
      ],
      "metadata": {
        "id": "9AyZGCgGbMn7"
      }
    },
    {
      "cell_type": "code",
      "source": [
        "sns_plot = sns.distplot(input_array)\n",
        "fig = sns_plot.get_figure()"
      ],
      "metadata": {
        "colab": {
          "base_uri": "https://localhost:8080/",
          "height": 617
        },
        "id": "aHyImtHWt3Mz",
        "outputId": "b144bc66-b0e4-4311-8233-22cbe2086489"
      },
      "execution_count": null,
      "outputs": [
        {
          "output_type": "stream",
          "name": "stderr",
          "text": [
            "<ipython-input-212-4e5df35cf8f4>:1: UserWarning: \n",
            "\n",
            "`distplot` is a deprecated function and will be removed in seaborn v0.14.0.\n",
            "\n",
            "Please adapt your code to use either `displot` (a figure-level function with\n",
            "similar flexibility) or `histplot` (an axes-level function for histograms).\n",
            "\n",
            "For a guide to updating your code to use the new functions, please see\n",
            "https://gist.github.com/mwaskom/de44147ed2974457ad6372750bbe5751\n",
            "\n",
            "  sns_plot = sns.distplot(input_array)\n"
          ]
        },
        {
          "output_type": "display_data",
          "data": {
            "text/plain": [
              "<Figure size 640x480 with 1 Axes>"
            ],
            "image/png": "[encoded data removed]"
          },
          "metadata": {}
        }
      ]
    },
    {
      "cell_type": "code",
      "source": [
        "reserved_df = pd.DataFrame(columns=['xi'])\n",
        "reserved_df[\"xi\"] = input_array\n",
        "\n",
        "h = reserved_df['xi'].hist()\n",
        "fig = h.get_figure()"
      ],
      "metadata": {
        "colab": {
          "base_uri": "https://localhost:8080/",
          "height": 430
        },
        "id": "Xf5WM8w-wtK6",
        "outputId": "f8f8b290-cf51-4e88-9983-793574eab286"
      },
      "execution_count": null,
      "outputs": [
        {
          "output_type": "display_data",
          "data": {
            "text/plain": [
              "<Figure size 640x480 with 1 Axes>"
            ],
            "image/png": "[encoded data removed]"
          },
          "metadata": {}
        }
      ]
    },
    {
      "cell_type": "markdown",
      "source": [
        " Построим полигон приведенных частот группированной выборки"
      ],
      "metadata": {
        "id": "oAby6TlNt3tX"
      }
    },
    {
      "cell_type": "code",
      "source": [
        "x = df[\"xi\"]\n",
        "y = df[\"Relative frequency\"]\n",
        "plt.plot(x, y)"
      ],
      "metadata": {
        "colab": {
          "base_uri": "https://localhost:8080/",
          "height": 447
        },
        "id": "XNoEPL1ubP9e",
        "outputId": "ac0f0d2e-a8fe-42f1-9e15-902667ae30a9"
      },
      "execution_count": null,
      "outputs": [
        {
          "output_type": "execute_result",
          "data": {
            "text/plain": [
              "[<matplotlib.lines.Line2D at 0x7f8c3c816490>]"
            ]
          },
          "metadata": {},
          "execution_count": 214
        },
        {
          "output_type": "display_data",
          "data": {
            "text/plain": [
              "<Figure size 640x480 with 1 Axes>"
            ],
            "image/png": "[encoded data removed]"
          },
          "metadata": {}
        }
      ]
    }
  ]
}